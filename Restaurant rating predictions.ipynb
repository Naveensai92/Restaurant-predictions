{
 "cells": [
  {
   "cell_type": "code",
   "execution_count": 2,
   "metadata": {},
   "outputs": [
    {
     "data": {
      "text/html": [
       "<script>requirejs.config({paths: { 'plotly': ['https://cdn.plot.ly/plotly-latest.min']},});if(!window.Plotly) {{require(['plotly'],function(plotly) {window.Plotly=plotly;});}}</script>"
      ],
      "text/vnd.plotly.v1+html": [
       "<script>requirejs.config({paths: { 'plotly': ['https://cdn.plot.ly/plotly-latest.min']},});if(!window.Plotly) {{require(['plotly'],function(plotly) {window.Plotly=plotly;});}}</script>"
      ]
     },
     "metadata": {},
     "output_type": "display_data"
    }
   ],
   "source": [
    "#importing required packages\n",
    "import pandas as pd \n",
    "import numpy as np\n",
    "import matplotlib.pyplot as plt\n",
    "from sklearn.preprocessing import LabelEncoder\n",
    "from plotly.offline import init_notebook_mode, iplot\n",
    "from plotly.graph_objs import *\n",
    "init_notebook_mode(connected=True)\n",
    "import plotly.graph_objs as go\n",
    "import string"
   ]
  },
  {
   "cell_type": "code",
   "execution_count": 3,
   "metadata": {},
   "outputs": [],
   "source": [
    "#reading data\n",
    "F1=pd.read_csv(\"C:/Users/Naveen/Desktop/3rd eye data/chefmozaccepts.csv\")\n",
    "F2=pd.read_csv(\"C:/Users/Naveen/Desktop/3rd eye data/chefmozcuisine.csv\")\n",
    "F3=pd.read_csv(\"C:/Users/Naveen/Desktop/3rd eye data/chefmozhours4.csv\")\n",
    "F4=pd.read_csv(\"C:/Users/Naveen/Desktop/3rd eye data/chefmozparking.csv\")\n",
    "F5=pd.read_csv(\"C:/Users/Naveen/Desktop/3rd eye data/usercuisine.csv\")\n",
    "F6=pd.read_csv(\"C:/Users/Naveen/Desktop/3rd eye data/userpayment.csv\")\n",
    "F7=pd.read_csv(\"C:/Users/Naveen/Desktop/3rd eye data/userprofile.csv\")\n",
    "F8=pd.read_csv(\"C:/Users/Naveen/Desktop/3rd eye data/geoplaces2.csv\",encoding=\"ISO-8859-1\")\n",
    "\n",
    "T=pd.read_csv(\"C:/Users/Naveen/Desktop/3rd eye data/rating_final.csv\")"
   ]
  },
  {
   "cell_type": "markdown",
   "metadata": {},
   "source": [
    "Now we are going to explore and preprocess each csv files individualy"
   ]
  },
  {
   "cell_type": "markdown",
   "metadata": {},
   "source": [
    "# F1-chefmozaccepts.csv"
   ]
  },
  {
   "cell_type": "code",
   "execution_count": 4,
   "metadata": {},
   "outputs": [
    {
     "data": {
      "text/html": [
       "<div>\n",
       "<style scoped>\n",
       "    .dataframe tbody tr th:only-of-type {\n",
       "        vertical-align: middle;\n",
       "    }\n",
       "\n",
       "    .dataframe tbody tr th {\n",
       "        vertical-align: top;\n",
       "    }\n",
       "\n",
       "    .dataframe thead th {\n",
       "        text-align: right;\n",
       "    }\n",
       "</style>\n",
       "<table border=\"1\" class=\"dataframe\">\n",
       "  <thead>\n",
       "    <tr style=\"text-align: right;\">\n",
       "      <th></th>\n",
       "      <th>placeID</th>\n",
       "      <th>Rpayment</th>\n",
       "    </tr>\n",
       "  </thead>\n",
       "  <tbody>\n",
       "    <tr>\n",
       "      <th>0</th>\n",
       "      <td>135110</td>\n",
       "      <td>cash</td>\n",
       "    </tr>\n",
       "    <tr>\n",
       "      <th>1</th>\n",
       "      <td>135110</td>\n",
       "      <td>VISA</td>\n",
       "    </tr>\n",
       "    <tr>\n",
       "      <th>2</th>\n",
       "      <td>135110</td>\n",
       "      <td>MasterCard-Eurocard</td>\n",
       "    </tr>\n",
       "    <tr>\n",
       "      <th>3</th>\n",
       "      <td>135110</td>\n",
       "      <td>American_Express</td>\n",
       "    </tr>\n",
       "    <tr>\n",
       "      <th>4</th>\n",
       "      <td>135110</td>\n",
       "      <td>bank_debit_cards</td>\n",
       "    </tr>\n",
       "  </tbody>\n",
       "</table>\n",
       "</div>"
      ],
      "text/plain": [
       "   placeID             Rpayment\n",
       "0   135110                 cash\n",
       "1   135110                 VISA\n",
       "2   135110  MasterCard-Eurocard\n",
       "3   135110     American_Express\n",
       "4   135110     bank_debit_cards"
      ]
     },
     "execution_count": 4,
     "metadata": {},
     "output_type": "execute_result"
    }
   ],
   "source": [
    "F1.head()"
   ]
  },
  {
   "cell_type": "code",
   "execution_count": 5,
   "metadata": {},
   "outputs": [
    {
     "name": "stdout",
     "output_type": "stream",
     "text": [
      "<class 'pandas.core.frame.DataFrame'>\n",
      "RangeIndex: 1314 entries, 0 to 1313\n",
      "Data columns (total 2 columns):\n",
      "placeID     1314 non-null int64\n",
      "Rpayment    1314 non-null object\n",
      "dtypes: int64(1), object(1)\n",
      "memory usage: 20.6+ KB\n"
     ]
    }
   ],
   "source": [
    "F1.info()"
   ]
  },
  {
   "cell_type": "code",
   "execution_count": 6,
   "metadata": {},
   "outputs": [
    {
     "data": {
      "text/plain": [
       "Text(0,0.5,'count')"
      ]
     },
     "execution_count": 6,
     "metadata": {},
     "output_type": "execute_result"
    },
    {
     "data": {
      "image/png": "[encoded data removed]",
      "text/plain": [
       "<matplotlib.figure.Figure at 0x25afdb11860>"
      ]
     },
     "metadata": {},
     "output_type": "display_data"
    }
   ],
   "source": [
    "# plot to visualise most accepted payments by Restaurants\n",
    "F1plt=F1.Rpayment.value_counts().plot.bar(title=\"Payments Accepted\")\n",
    "F1plt.set_xlabel('payments mode',size=15)\n",
    "F1plt.set_ylabel('count',size=15)"
   ]
  },
  {
   "cell_type": "code",
   "execution_count": 7,
   "metadata": {},
   "outputs": [
    {
     "data": {
      "text/plain": [
       "615"
      ]
     },
     "execution_count": 7,
     "metadata": {},
     "output_type": "execute_result"
    }
   ],
   "source": [
    "#creating dummy variables for differen payments.\n",
    "F1dum = pd.get_dummies(F1,columns=['Rpayment'])\n",
    "F1dum1 = F1dum.groupby('placeID',as_index=False).sum()\n",
    "len(F1dum1)"
   ]
  },
  {
   "cell_type": "code",
   "execution_count": 8,
   "metadata": {},
   "outputs": [
    {
     "data": {
      "text/html": [
       "<div>\n",
       "<style scoped>\n",
       "    .dataframe tbody tr th:only-of-type {\n",
       "        vertical-align: middle;\n",
       "    }\n",
       "\n",
       "    .dataframe tbody tr th {\n",
       "        vertical-align: top;\n",
       "    }\n",
       "\n",
       "    .dataframe thead th {\n",
       "        text-align: right;\n",
       "    }\n",
       "</style>\n",
       "<table border=\"1\" class=\"dataframe\">\n",
       "  <thead>\n",
       "    <tr style=\"text-align: right;\">\n",
       "      <th></th>\n",
       "      <th>placeID</th>\n",
       "      <th>Rpayment_American_Express</th>\n",
       "      <th>Rpayment_Carte_Blanche</th>\n",
       "      <th>Rpayment_Diners_Club</th>\n",
       "      <th>Rpayment_Discover</th>\n",
       "      <th>Rpayment_Japan_Credit_Bureau</th>\n",
       "      <th>Rpayment_MasterCard-Eurocard</th>\n",
       "      <th>Rpayment_VISA</th>\n",
       "      <th>Rpayment_Visa</th>\n",
       "      <th>Rpayment_bank_debit_cards</th>\n",
       "      <th>Rpayment_cash</th>\n",
       "      <th>Rpayment_checks</th>\n",
       "      <th>Rpayment_gift_certificates</th>\n",
       "    </tr>\n",
       "  </thead>\n",
       "  <tbody>\n",
       "    <tr>\n",
       "      <th>0</th>\n",
       "      <td>132002</td>\n",
       "      <td>1</td>\n",
       "      <td>0</td>\n",
       "      <td>1</td>\n",
       "      <td>0</td>\n",
       "      <td>0</td>\n",
       "      <td>1</td>\n",
       "      <td>0</td>\n",
       "      <td>1</td>\n",
       "      <td>0</td>\n",
       "      <td>0</td>\n",
       "      <td>0</td>\n",
       "      <td>0</td>\n",
       "    </tr>\n",
       "    <tr>\n",
       "      <th>1</th>\n",
       "      <td>132012</td>\n",
       "      <td>1</td>\n",
       "      <td>0</td>\n",
       "      <td>1</td>\n",
       "      <td>0</td>\n",
       "      <td>0</td>\n",
       "      <td>0</td>\n",
       "      <td>0</td>\n",
       "      <td>1</td>\n",
       "      <td>1</td>\n",
       "      <td>0</td>\n",
       "      <td>0</td>\n",
       "      <td>0</td>\n",
       "    </tr>\n",
       "    <tr>\n",
       "      <th>2</th>\n",
       "      <td>132019</td>\n",
       "      <td>1</td>\n",
       "      <td>0</td>\n",
       "      <td>1</td>\n",
       "      <td>0</td>\n",
       "      <td>0</td>\n",
       "      <td>1</td>\n",
       "      <td>0</td>\n",
       "      <td>1</td>\n",
       "      <td>0</td>\n",
       "      <td>0</td>\n",
       "      <td>0</td>\n",
       "      <td>0</td>\n",
       "    </tr>\n",
       "    <tr>\n",
       "      <th>3</th>\n",
       "      <td>132023</td>\n",
       "      <td>1</td>\n",
       "      <td>0</td>\n",
       "      <td>1</td>\n",
       "      <td>0</td>\n",
       "      <td>1</td>\n",
       "      <td>0</td>\n",
       "      <td>0</td>\n",
       "      <td>0</td>\n",
       "      <td>1</td>\n",
       "      <td>0</td>\n",
       "      <td>0</td>\n",
       "      <td>0</td>\n",
       "    </tr>\n",
       "    <tr>\n",
       "      <th>4</th>\n",
       "      <td>132024</td>\n",
       "      <td>1</td>\n",
       "      <td>0</td>\n",
       "      <td>1</td>\n",
       "      <td>0</td>\n",
       "      <td>0</td>\n",
       "      <td>0</td>\n",
       "      <td>0</td>\n",
       "      <td>1</td>\n",
       "      <td>1</td>\n",
       "      <td>0</td>\n",
       "      <td>0</td>\n",
       "      <td>0</td>\n",
       "    </tr>\n",
       "  </tbody>\n",
       "</table>\n",
       "</div>"
      ],
      "text/plain": [
       "   placeID  Rpayment_American_Express  Rpayment_Carte_Blanche  \\\n",
       "0   132002                          1                       0   \n",
       "1   132012                          1                       0   \n",
       "2   132019                          1                       0   \n",
       "3   132023                          1                       0   \n",
       "4   132024                          1                       0   \n",
       "\n",
       "   Rpayment_Diners_Club  Rpayment_Discover  Rpayment_Japan_Credit_Bureau  \\\n",
       "0                     1                  0                             0   \n",
       "1                     1                  0                             0   \n",
       "2                     1                  0                             0   \n",
       "3                     1                  0                             1   \n",
       "4                     1                  0                             0   \n",
       "\n",
       "   Rpayment_MasterCard-Eurocard  Rpayment_VISA  Rpayment_Visa  \\\n",
       "0                             1              0              1   \n",
       "1                             0              0              1   \n",
       "2                             1              0              1   \n",
       "3                             0              0              0   \n",
       "4                             0              0              1   \n",
       "\n",
       "   Rpayment_bank_debit_cards  Rpayment_cash  Rpayment_checks  \\\n",
       "0                          0              0                0   \n",
       "1                          1              0                0   \n",
       "2                          0              0                0   \n",
       "3                          1              0                0   \n",
       "4                          1              0                0   \n",
       "\n",
       "   Rpayment_gift_certificates  \n",
       "0                           0  \n",
       "1                           0  \n",
       "2                           0  \n",
       "3                           0  \n",
       "4                           0  "
      ]
     },
     "execution_count": 8,
     "metadata": {},
     "output_type": "execute_result"
    }
   ],
   "source": [
    "F1dum1.head()"
   ]
  },
  {
   "cell_type": "markdown",
   "metadata": {},
   "source": [
    "# F2 - chefmozcuisine.csv"
   ]
  },
  {
   "cell_type": "code",
   "execution_count": 9,
   "metadata": {},
   "outputs": [
    {
     "data": {
      "text/html": [
       "<div>\n",
       "<style scoped>\n",
       "    .dataframe tbody tr th:only-of-type {\n",
       "        vertical-align: middle;\n",
       "    }\n",
       "\n",
       "    .dataframe tbody tr th {\n",
       "        vertical-align: top;\n",
       "    }\n",
       "\n",
       "    .dataframe thead th {\n",
       "        text-align: right;\n",
       "    }\n",
       "</style>\n",
       "<table border=\"1\" class=\"dataframe\">\n",
       "  <thead>\n",
       "    <tr style=\"text-align: right;\">\n",
       "      <th></th>\n",
       "      <th>placeID</th>\n",
       "      <th>Rcuisine</th>\n",
       "    </tr>\n",
       "  </thead>\n",
       "  <tbody>\n",
       "    <tr>\n",
       "      <th>0</th>\n",
       "      <td>135110</td>\n",
       "      <td>Spanish</td>\n",
       "    </tr>\n",
       "    <tr>\n",
       "      <th>1</th>\n",
       "      <td>135109</td>\n",
       "      <td>Italian</td>\n",
       "    </tr>\n",
       "    <tr>\n",
       "      <th>2</th>\n",
       "      <td>135107</td>\n",
       "      <td>Latin_American</td>\n",
       "    </tr>\n",
       "    <tr>\n",
       "      <th>3</th>\n",
       "      <td>135106</td>\n",
       "      <td>Mexican</td>\n",
       "    </tr>\n",
       "    <tr>\n",
       "      <th>4</th>\n",
       "      <td>135105</td>\n",
       "      <td>Fast_Food</td>\n",
       "    </tr>\n",
       "  </tbody>\n",
       "</table>\n",
       "</div>"
      ],
      "text/plain": [
       "   placeID        Rcuisine\n",
       "0   135110         Spanish\n",
       "1   135109         Italian\n",
       "2   135107  Latin_American\n",
       "3   135106         Mexican\n",
       "4   135105       Fast_Food"
      ]
     },
     "execution_count": 9,
     "metadata": {},
     "output_type": "execute_result"
    }
   ],
   "source": [
    "F2.head()"
   ]
  },
  {
   "cell_type": "code",
   "execution_count": 10,
   "metadata": {},
   "outputs": [
    {
     "name": "stdout",
     "output_type": "stream",
     "text": [
      "<class 'pandas.core.frame.DataFrame'>\n",
      "RangeIndex: 916 entries, 0 to 915\n",
      "Data columns (total 2 columns):\n",
      "placeID     916 non-null int64\n",
      "Rcuisine    916 non-null object\n",
      "dtypes: int64(1), object(1)\n",
      "memory usage: 14.4+ KB\n"
     ]
    }
   ],
   "source": [
    "F2.info()"
   ]
  },
  {
   "cell_type": "code",
   "execution_count": 11,
   "metadata": {},
   "outputs": [
    {
     "data": {
      "text/plain": [
       "Text(0,0.5,'count')"
      ]
     },
     "execution_count": 11,
     "metadata": {},
     "output_type": "execute_result"
    },
    {
     "data": {
      "image/png": "[encoded data removed]",
      "text/plain": [
       "<matplotlib.figure.Figure at 0x25af85614e0>"
      ]
     },
     "metadata": {},
     "output_type": "display_data"
    }
   ],
   "source": [
    "#plot to visualize top cuisines offered by the restaurants\n",
    "F2plt=F2.Rcuisine.value_counts()[:10].plot.bar(title=\"Top 10 cuisine\")\n",
    "F2plt.set_xlabel('cuisine',size=15)\n",
    "F2plt.set_ylabel('count',size=15)"
   ]
  },
  {
   "cell_type": "code",
   "execution_count": 12,
   "metadata": {},
   "outputs": [
    {
     "data": {
      "text/plain": [
       "769"
      ]
     },
     "execution_count": 12,
     "metadata": {},
     "output_type": "execute_result"
    }
   ],
   "source": [
    "#creating dummy variables for different cuisines.\n",
    "F2dum = pd.get_dummies(F2,columns=['Rcuisine'])\n",
    "F2dum1 = F2dum.groupby('placeID',as_index=False).sum()\n",
    "len(F2dum1)"
   ]
  },
  {
   "cell_type": "code",
   "execution_count": 13,
   "metadata": {},
   "outputs": [
    {
     "data": {
      "text/html": [
       "<div>\n",
       "<style scoped>\n",
       "    .dataframe tbody tr th:only-of-type {\n",
       "        vertical-align: middle;\n",
       "    }\n",
       "\n",
       "    .dataframe tbody tr th {\n",
       "        vertical-align: top;\n",
       "    }\n",
       "\n",
       "    .dataframe thead th {\n",
       "        text-align: right;\n",
       "    }\n",
       "</style>\n",
       "<table border=\"1\" class=\"dataframe\">\n",
       "  <thead>\n",
       "    <tr style=\"text-align: right;\">\n",
       "      <th></th>\n",
       "      <th>placeID</th>\n",
       "      <th>Rcuisine_Afghan</th>\n",
       "      <th>Rcuisine_African</th>\n",
       "      <th>Rcuisine_American</th>\n",
       "      <th>Rcuisine_Armenian</th>\n",
       "      <th>Rcuisine_Asian</th>\n",
       "      <th>Rcuisine_Bagels</th>\n",
       "      <th>Rcuisine_Bakery</th>\n",
       "      <th>Rcuisine_Bar</th>\n",
       "      <th>Rcuisine_Bar_Pub_Brewery</th>\n",
       "      <th>...</th>\n",
       "      <th>Rcuisine_Soup</th>\n",
       "      <th>Rcuisine_Southern</th>\n",
       "      <th>Rcuisine_Southwestern</th>\n",
       "      <th>Rcuisine_Spanish</th>\n",
       "      <th>Rcuisine_Steaks</th>\n",
       "      <th>Rcuisine_Sushi</th>\n",
       "      <th>Rcuisine_Thai</th>\n",
       "      <th>Rcuisine_Turkish</th>\n",
       "      <th>Rcuisine_Vegetarian</th>\n",
       "      <th>Rcuisine_Vietnamese</th>\n",
       "    </tr>\n",
       "  </thead>\n",
       "  <tbody>\n",
       "    <tr>\n",
       "      <th>0</th>\n",
       "      <td>132001</td>\n",
       "      <td>0</td>\n",
       "      <td>0</td>\n",
       "      <td>0</td>\n",
       "      <td>0</td>\n",
       "      <td>0</td>\n",
       "      <td>0</td>\n",
       "      <td>0</td>\n",
       "      <td>0</td>\n",
       "      <td>0</td>\n",
       "      <td>...</td>\n",
       "      <td>0</td>\n",
       "      <td>0</td>\n",
       "      <td>0</td>\n",
       "      <td>0</td>\n",
       "      <td>0</td>\n",
       "      <td>0</td>\n",
       "      <td>0</td>\n",
       "      <td>0</td>\n",
       "      <td>0</td>\n",
       "      <td>0</td>\n",
       "    </tr>\n",
       "    <tr>\n",
       "      <th>1</th>\n",
       "      <td>132002</td>\n",
       "      <td>0</td>\n",
       "      <td>0</td>\n",
       "      <td>0</td>\n",
       "      <td>0</td>\n",
       "      <td>0</td>\n",
       "      <td>0</td>\n",
       "      <td>0</td>\n",
       "      <td>0</td>\n",
       "      <td>0</td>\n",
       "      <td>...</td>\n",
       "      <td>0</td>\n",
       "      <td>0</td>\n",
       "      <td>0</td>\n",
       "      <td>0</td>\n",
       "      <td>0</td>\n",
       "      <td>0</td>\n",
       "      <td>0</td>\n",
       "      <td>0</td>\n",
       "      <td>0</td>\n",
       "      <td>0</td>\n",
       "    </tr>\n",
       "    <tr>\n",
       "      <th>2</th>\n",
       "      <td>132003</td>\n",
       "      <td>0</td>\n",
       "      <td>0</td>\n",
       "      <td>0</td>\n",
       "      <td>0</td>\n",
       "      <td>0</td>\n",
       "      <td>0</td>\n",
       "      <td>0</td>\n",
       "      <td>0</td>\n",
       "      <td>0</td>\n",
       "      <td>...</td>\n",
       "      <td>0</td>\n",
       "      <td>0</td>\n",
       "      <td>0</td>\n",
       "      <td>0</td>\n",
       "      <td>0</td>\n",
       "      <td>0</td>\n",
       "      <td>0</td>\n",
       "      <td>0</td>\n",
       "      <td>0</td>\n",
       "      <td>0</td>\n",
       "    </tr>\n",
       "    <tr>\n",
       "      <th>3</th>\n",
       "      <td>132004</td>\n",
       "      <td>0</td>\n",
       "      <td>0</td>\n",
       "      <td>0</td>\n",
       "      <td>0</td>\n",
       "      <td>0</td>\n",
       "      <td>0</td>\n",
       "      <td>0</td>\n",
       "      <td>0</td>\n",
       "      <td>0</td>\n",
       "      <td>...</td>\n",
       "      <td>0</td>\n",
       "      <td>0</td>\n",
       "      <td>0</td>\n",
       "      <td>0</td>\n",
       "      <td>0</td>\n",
       "      <td>0</td>\n",
       "      <td>0</td>\n",
       "      <td>0</td>\n",
       "      <td>0</td>\n",
       "      <td>0</td>\n",
       "    </tr>\n",
       "    <tr>\n",
       "      <th>4</th>\n",
       "      <td>132005</td>\n",
       "      <td>0</td>\n",
       "      <td>0</td>\n",
       "      <td>0</td>\n",
       "      <td>0</td>\n",
       "      <td>0</td>\n",
       "      <td>0</td>\n",
       "      <td>0</td>\n",
       "      <td>0</td>\n",
       "      <td>0</td>\n",
       "      <td>...</td>\n",
       "      <td>0</td>\n",
       "      <td>0</td>\n",
       "      <td>0</td>\n",
       "      <td>0</td>\n",
       "      <td>0</td>\n",
       "      <td>0</td>\n",
       "      <td>0</td>\n",
       "      <td>0</td>\n",
       "      <td>0</td>\n",
       "      <td>0</td>\n",
       "    </tr>\n",
       "  </tbody>\n",
       "</table>\n",
       "<p>5 rows × 60 columns</p>\n",
       "</div>"
      ],
      "text/plain": [
       "   placeID  Rcuisine_Afghan  Rcuisine_African  Rcuisine_American  \\\n",
       "0   132001                0                 0                  0   \n",
       "1   132002                0                 0                  0   \n",
       "2   132003                0                 0                  0   \n",
       "3   132004                0                 0                  0   \n",
       "4   132005                0                 0                  0   \n",
       "\n",
       "   Rcuisine_Armenian  Rcuisine_Asian  Rcuisine_Bagels  Rcuisine_Bakery  \\\n",
       "0                  0               0                0                0   \n",
       "1                  0               0                0                0   \n",
       "2                  0               0                0                0   \n",
       "3                  0               0                0                0   \n",
       "4                  0               0                0                0   \n",
       "\n",
       "   Rcuisine_Bar  Rcuisine_Bar_Pub_Brewery         ...           Rcuisine_Soup  \\\n",
       "0             0                         0         ...                       0   \n",
       "1             0                         0         ...                       0   \n",
       "2             0                         0         ...                       0   \n",
       "3             0                         0         ...                       0   \n",
       "4             0                         0         ...                       0   \n",
       "\n",
       "   Rcuisine_Southern  Rcuisine_Southwestern  Rcuisine_Spanish  \\\n",
       "0                  0                      0                 0   \n",
       "1                  0                      0                 0   \n",
       "2                  0                      0                 0   \n",
       "3                  0                      0                 0   \n",
       "4                  0                      0                 0   \n",
       "\n",
       "   Rcuisine_Steaks  Rcuisine_Sushi  Rcuisine_Thai  Rcuisine_Turkish  \\\n",
       "0                0               0              0                 0   \n",
       "1                0               0              0                 0   \n",
       "2                0               0              0                 0   \n",
       "3                0               0              0                 0   \n",
       "4                0               0              0                 0   \n",
       "\n",
       "   Rcuisine_Vegetarian  Rcuisine_Vietnamese  \n",
       "0                    0                    0  \n",
       "1                    0                    0  \n",
       "2                    0                    0  \n",
       "3                    0                    0  \n",
       "4                    0                    0  \n",
       "\n",
       "[5 rows x 60 columns]"
      ]
     },
     "execution_count": 13,
     "metadata": {},
     "output_type": "execute_result"
    }
   ],
   "source": [
    "F2dum1.head()"
   ]
  },
  {
   "cell_type": "markdown",
   "metadata": {},
   "source": [
    "# F3 - chefmozhours4.csv"
   ]
  },
  {
   "cell_type": "code",
   "execution_count": 14,
   "metadata": {},
   "outputs": [
    {
     "data": {
      "text/html": [
       "<div>\n",
       "<style scoped>\n",
       "    .dataframe tbody tr th:only-of-type {\n",
       "        vertical-align: middle;\n",
       "    }\n",
       "\n",
       "    .dataframe tbody tr th {\n",
       "        vertical-align: top;\n",
       "    }\n",
       "\n",
       "    .dataframe thead th {\n",
       "        text-align: right;\n",
       "    }\n",
       "</style>\n",
       "<table border=\"1\" class=\"dataframe\">\n",
       "  <thead>\n",
       "    <tr style=\"text-align: right;\">\n",
       "      <th></th>\n",
       "      <th>placeID</th>\n",
       "      <th>hours</th>\n",
       "      <th>days</th>\n",
       "    </tr>\n",
       "  </thead>\n",
       "  <tbody>\n",
       "    <tr>\n",
       "      <th>0</th>\n",
       "      <td>135111</td>\n",
       "      <td>00:00-23:30;</td>\n",
       "      <td>Mon;Tue;Wed;Thu;Fri;</td>\n",
       "    </tr>\n",
       "    <tr>\n",
       "      <th>1</th>\n",
       "      <td>135111</td>\n",
       "      <td>00:00-23:30;</td>\n",
       "      <td>Sat;</td>\n",
       "    </tr>\n",
       "    <tr>\n",
       "      <th>2</th>\n",
       "      <td>135111</td>\n",
       "      <td>00:00-23:30;</td>\n",
       "      <td>Sun;</td>\n",
       "    </tr>\n",
       "    <tr>\n",
       "      <th>3</th>\n",
       "      <td>135110</td>\n",
       "      <td>08:00-19:00;</td>\n",
       "      <td>Mon;Tue;Wed;Thu;Fri;</td>\n",
       "    </tr>\n",
       "    <tr>\n",
       "      <th>4</th>\n",
       "      <td>135110</td>\n",
       "      <td>00:00-00:00;</td>\n",
       "      <td>Sat;</td>\n",
       "    </tr>\n",
       "  </tbody>\n",
       "</table>\n",
       "</div>"
      ],
      "text/plain": [
       "   placeID         hours                  days\n",
       "0   135111  00:00-23:30;  Mon;Tue;Wed;Thu;Fri;\n",
       "1   135111  00:00-23:30;                  Sat;\n",
       "2   135111  00:00-23:30;                  Sun;\n",
       "3   135110  08:00-19:00;  Mon;Tue;Wed;Thu;Fri;\n",
       "4   135110  00:00-00:00;                  Sat;"
      ]
     },
     "execution_count": 14,
     "metadata": {},
     "output_type": "execute_result"
    }
   ],
   "source": [
    "F3.head()"
   ]
  },
  {
   "cell_type": "code",
   "execution_count": 15,
   "metadata": {},
   "outputs": [
    {
     "name": "stdout",
     "output_type": "stream",
     "text": [
      "<class 'pandas.core.frame.DataFrame'>\n",
      "RangeIndex: 2339 entries, 0 to 2338\n",
      "Data columns (total 3 columns):\n",
      "placeID    2339 non-null int64\n",
      "hours      2339 non-null object\n",
      "days       2339 non-null object\n",
      "dtypes: int64(1), object(2)\n",
      "memory usage: 54.9+ KB\n"
     ]
    }
   ],
   "source": [
    "F3.info()"
   ]
  },
  {
   "cell_type": "markdown",
   "metadata": {},
   "source": [
    "# F4 - chefmozparking.csv"
   ]
  },
  {
   "cell_type": "code",
   "execution_count": 16,
   "metadata": {},
   "outputs": [
    {
     "data": {
      "text/html": [
       "<div>\n",
       "<style scoped>\n",
       "    .dataframe tbody tr th:only-of-type {\n",
       "        vertical-align: middle;\n",
       "    }\n",
       "\n",
       "    .dataframe tbody tr th {\n",
       "        vertical-align: top;\n",
       "    }\n",
       "\n",
       "    .dataframe thead th {\n",
       "        text-align: right;\n",
       "    }\n",
       "</style>\n",
       "<table border=\"1\" class=\"dataframe\">\n",
       "  <thead>\n",
       "    <tr style=\"text-align: right;\">\n",
       "      <th></th>\n",
       "      <th>placeID</th>\n",
       "      <th>parking_lot</th>\n",
       "    </tr>\n",
       "  </thead>\n",
       "  <tbody>\n",
       "    <tr>\n",
       "      <th>0</th>\n",
       "      <td>135111</td>\n",
       "      <td>public</td>\n",
       "    </tr>\n",
       "    <tr>\n",
       "      <th>1</th>\n",
       "      <td>135110</td>\n",
       "      <td>none</td>\n",
       "    </tr>\n",
       "    <tr>\n",
       "      <th>2</th>\n",
       "      <td>135109</td>\n",
       "      <td>none</td>\n",
       "    </tr>\n",
       "    <tr>\n",
       "      <th>3</th>\n",
       "      <td>135108</td>\n",
       "      <td>none</td>\n",
       "    </tr>\n",
       "    <tr>\n",
       "      <th>4</th>\n",
       "      <td>135107</td>\n",
       "      <td>none</td>\n",
       "    </tr>\n",
       "  </tbody>\n",
       "</table>\n",
       "</div>"
      ],
      "text/plain": [
       "   placeID parking_lot\n",
       "0   135111      public\n",
       "1   135110        none\n",
       "2   135109        none\n",
       "3   135108        none\n",
       "4   135107        none"
      ]
     },
     "execution_count": 16,
     "metadata": {},
     "output_type": "execute_result"
    }
   ],
   "source": [
    "F4.head()"
   ]
  },
  {
   "cell_type": "code",
   "execution_count": 17,
   "metadata": {},
   "outputs": [
    {
     "name": "stdout",
     "output_type": "stream",
     "text": [
      "<class 'pandas.core.frame.DataFrame'>\n",
      "RangeIndex: 702 entries, 0 to 701\n",
      "Data columns (total 2 columns):\n",
      "placeID        702 non-null int64\n",
      "parking_lot    702 non-null object\n",
      "dtypes: int64(1), object(1)\n",
      "memory usage: 11.0+ KB\n"
     ]
    }
   ],
   "source": [
    "F4.info()"
   ]
  },
  {
   "cell_type": "code",
   "execution_count": 18,
   "metadata": {},
   "outputs": [
    {
     "data": {
      "text/plain": [
       "Text(0,0.5,'count')"
      ]
     },
     "execution_count": 18,
     "metadata": {},
     "output_type": "execute_result"
    },
    {
     "data": {
      "image/png": "[encoded data removed]",
      "text/plain": [
       "<matplotlib.figure.Figure at 0x25a84981898>"
      ]
     },
     "metadata": {},
     "output_type": "display_data"
    }
   ],
   "source": [
    "#plot to visualize available parking place at the Restaurants\n",
    "F4plt=F4.parking_lot.value_counts().plot.bar(title=\"parking place\")\n",
    "F4plt.set_xlabel('Available parking',size=15)\n",
    "F4plt.set_ylabel('count',size=15)"
   ]
  },
  {
   "cell_type": "code",
   "execution_count": 19,
   "metadata": {},
   "outputs": [
    {
     "data": {
      "text/plain": [
       "675"
      ]
     },
     "execution_count": 19,
     "metadata": {},
     "output_type": "execute_result"
    }
   ],
   "source": [
    "#creating dummy variables for different parking lots.\n",
    "F4dum = pd.get_dummies(F4,columns=['parking_lot'])\n",
    "F4dum1 = F4dum.groupby('placeID',as_index=False).sum()\n",
    "len(F4dum1)"
   ]
  },
  {
   "cell_type": "code",
   "execution_count": 20,
   "metadata": {},
   "outputs": [
    {
     "data": {
      "text/html": [
       "<div>\n",
       "<style scoped>\n",
       "    .dataframe tbody tr th:only-of-type {\n",
       "        vertical-align: middle;\n",
       "    }\n",
       "\n",
       "    .dataframe tbody tr th {\n",
       "        vertical-align: top;\n",
       "    }\n",
       "\n",
       "    .dataframe thead th {\n",
       "        text-align: right;\n",
       "    }\n",
       "</style>\n",
       "<table border=\"1\" class=\"dataframe\">\n",
       "  <thead>\n",
       "    <tr style=\"text-align: right;\">\n",
       "      <th></th>\n",
       "      <th>placeID</th>\n",
       "      <th>parking_lot_fee</th>\n",
       "      <th>parking_lot_none</th>\n",
       "      <th>parking_lot_public</th>\n",
       "      <th>parking_lot_street</th>\n",
       "      <th>parking_lot_valet parking</th>\n",
       "      <th>parking_lot_validated parking</th>\n",
       "      <th>parking_lot_yes</th>\n",
       "    </tr>\n",
       "  </thead>\n",
       "  <tbody>\n",
       "    <tr>\n",
       "      <th>0</th>\n",
       "      <td>132012</td>\n",
       "      <td>0</td>\n",
       "      <td>0</td>\n",
       "      <td>1</td>\n",
       "      <td>1</td>\n",
       "      <td>0</td>\n",
       "      <td>0</td>\n",
       "      <td>0</td>\n",
       "    </tr>\n",
       "    <tr>\n",
       "      <th>1</th>\n",
       "      <td>132023</td>\n",
       "      <td>1</td>\n",
       "      <td>0</td>\n",
       "      <td>1</td>\n",
       "      <td>0</td>\n",
       "      <td>0</td>\n",
       "      <td>0</td>\n",
       "      <td>0</td>\n",
       "    </tr>\n",
       "    <tr>\n",
       "      <th>2</th>\n",
       "      <td>132024</td>\n",
       "      <td>0</td>\n",
       "      <td>0</td>\n",
       "      <td>0</td>\n",
       "      <td>1</td>\n",
       "      <td>0</td>\n",
       "      <td>0</td>\n",
       "      <td>0</td>\n",
       "    </tr>\n",
       "    <tr>\n",
       "      <th>3</th>\n",
       "      <td>132026</td>\n",
       "      <td>1</td>\n",
       "      <td>0</td>\n",
       "      <td>0</td>\n",
       "      <td>0</td>\n",
       "      <td>0</td>\n",
       "      <td>0</td>\n",
       "      <td>0</td>\n",
       "    </tr>\n",
       "    <tr>\n",
       "      <th>4</th>\n",
       "      <td>132030</td>\n",
       "      <td>0</td>\n",
       "      <td>0</td>\n",
       "      <td>0</td>\n",
       "      <td>1</td>\n",
       "      <td>0</td>\n",
       "      <td>0</td>\n",
       "      <td>0</td>\n",
       "    </tr>\n",
       "  </tbody>\n",
       "</table>\n",
       "</div>"
      ],
      "text/plain": [
       "   placeID  parking_lot_fee  parking_lot_none  parking_lot_public  \\\n",
       "0   132012                0                 0                   1   \n",
       "1   132023                1                 0                   1   \n",
       "2   132024                0                 0                   0   \n",
       "3   132026                1                 0                   0   \n",
       "4   132030                0                 0                   0   \n",
       "\n",
       "   parking_lot_street  parking_lot_valet parking  \\\n",
       "0                   1                          0   \n",
       "1                   0                          0   \n",
       "2                   1                          0   \n",
       "3                   0                          0   \n",
       "4                   1                          0   \n",
       "\n",
       "   parking_lot_validated parking  parking_lot_yes  \n",
       "0                              0                0  \n",
       "1                              0                0  \n",
       "2                              0                0  \n",
       "3                              0                0  \n",
       "4                              0                0  "
      ]
     },
     "execution_count": 20,
     "metadata": {},
     "output_type": "execute_result"
    }
   ],
   "source": [
    "F4dum1.head()"
   ]
  },
  {
   "cell_type": "markdown",
   "metadata": {},
   "source": [
    "# F5 - usercuisine.csv"
   ]
  },
  {
   "cell_type": "code",
   "execution_count": 21,
   "metadata": {},
   "outputs": [
    {
     "data": {
      "text/html": [
       "<div>\n",
       "<style scoped>\n",
       "    .dataframe tbody tr th:only-of-type {\n",
       "        vertical-align: middle;\n",
       "    }\n",
       "\n",
       "    .dataframe tbody tr th {\n",
       "        vertical-align: top;\n",
       "    }\n",
       "\n",
       "    .dataframe thead th {\n",
       "        text-align: right;\n",
       "    }\n",
       "</style>\n",
       "<table border=\"1\" class=\"dataframe\">\n",
       "  <thead>\n",
       "    <tr style=\"text-align: right;\">\n",
       "      <th></th>\n",
       "      <th>userID</th>\n",
       "      <th>Rcuisine</th>\n",
       "    </tr>\n",
       "  </thead>\n",
       "  <tbody>\n",
       "    <tr>\n",
       "      <th>0</th>\n",
       "      <td>U1001</td>\n",
       "      <td>American</td>\n",
       "    </tr>\n",
       "    <tr>\n",
       "      <th>1</th>\n",
       "      <td>U1002</td>\n",
       "      <td>Mexican</td>\n",
       "    </tr>\n",
       "    <tr>\n",
       "      <th>2</th>\n",
       "      <td>U1003</td>\n",
       "      <td>Mexican</td>\n",
       "    </tr>\n",
       "    <tr>\n",
       "      <th>3</th>\n",
       "      <td>U1004</td>\n",
       "      <td>Bakery</td>\n",
       "    </tr>\n",
       "    <tr>\n",
       "      <th>4</th>\n",
       "      <td>U1004</td>\n",
       "      <td>Breakfast-Brunch</td>\n",
       "    </tr>\n",
       "  </tbody>\n",
       "</table>\n",
       "</div>"
      ],
      "text/plain": [
       "  userID          Rcuisine\n",
       "0  U1001          American\n",
       "1  U1002           Mexican\n",
       "2  U1003           Mexican\n",
       "3  U1004            Bakery\n",
       "4  U1004  Breakfast-Brunch"
      ]
     },
     "execution_count": 21,
     "metadata": {},
     "output_type": "execute_result"
    }
   ],
   "source": [
    "F5.head()"
   ]
  },
  {
   "cell_type": "code",
   "execution_count": 22,
   "metadata": {},
   "outputs": [
    {
     "name": "stdout",
     "output_type": "stream",
     "text": [
      "<class 'pandas.core.frame.DataFrame'>\n",
      "RangeIndex: 330 entries, 0 to 329\n",
      "Data columns (total 2 columns):\n",
      "userID      330 non-null object\n",
      "Rcuisine    330 non-null object\n",
      "dtypes: object(2)\n",
      "memory usage: 5.2+ KB\n"
     ]
    }
   ],
   "source": [
    "F5.info()"
   ]
  },
  {
   "cell_type": "code",
   "execution_count": 23,
   "metadata": {},
   "outputs": [
    {
     "data": {
      "text/plain": [
       "Text(0,0.5,'count')"
      ]
     },
     "execution_count": 23,
     "metadata": {},
     "output_type": "execute_result"
    },
    {
     "data": {
      "image/png": "[encoded data removed]",
      "text/plain": [
       "<matplotlib.figure.Figure at 0x25a849d2ef0>"
      ]
     },
     "metadata": {},
     "output_type": "display_data"
    }
   ],
   "source": [
    "#Top 10 favorite cuisines for the customers\n",
    "F5plt=F5.Rcuisine.value_counts()[:10].plot.bar(title=\"Top 10 user cuisine\")\n",
    "F5plt.set_xlabel('user cuisine',size=15)\n",
    "F5plt.set_ylabel('count',size=15)"
   ]
  },
  {
   "cell_type": "code",
   "execution_count": 24,
   "metadata": {},
   "outputs": [
    {
     "data": {
      "text/plain": [
       "138"
      ]
     },
     "execution_count": 24,
     "metadata": {},
     "output_type": "execute_result"
    }
   ],
   "source": [
    "#creating dummy variables for differen usercuisines.\n",
    "F5dum = pd.get_dummies(F5,columns=['Rcuisine'])\n",
    "F5dum1 = F5dum.groupby('userID',as_index=False).sum()\n",
    "len(F5dum1)"
   ]
  },
  {
   "cell_type": "code",
   "execution_count": 25,
   "metadata": {},
   "outputs": [
    {
     "data": {
      "text/html": [
       "<div>\n",
       "<style scoped>\n",
       "    .dataframe tbody tr th:only-of-type {\n",
       "        vertical-align: middle;\n",
       "    }\n",
       "\n",
       "    .dataframe tbody tr th {\n",
       "        vertical-align: top;\n",
       "    }\n",
       "\n",
       "    .dataframe thead th {\n",
       "        text-align: right;\n",
       "    }\n",
       "</style>\n",
       "<table border=\"1\" class=\"dataframe\">\n",
       "  <thead>\n",
       "    <tr style=\"text-align: right;\">\n",
       "      <th></th>\n",
       "      <th>userID</th>\n",
       "      <th>Rcuisine_Afghan</th>\n",
       "      <th>Rcuisine_African</th>\n",
       "      <th>Rcuisine_American</th>\n",
       "      <th>Rcuisine_Armenian</th>\n",
       "      <th>Rcuisine_Asian</th>\n",
       "      <th>Rcuisine_Australian</th>\n",
       "      <th>Rcuisine_Austrian</th>\n",
       "      <th>Rcuisine_Bagels</th>\n",
       "      <th>Rcuisine_Bakery</th>\n",
       "      <th>...</th>\n",
       "      <th>Rcuisine_Swiss</th>\n",
       "      <th>Rcuisine_Tapas</th>\n",
       "      <th>Rcuisine_Tea_House</th>\n",
       "      <th>Rcuisine_Tex-Mex</th>\n",
       "      <th>Rcuisine_Thai</th>\n",
       "      <th>Rcuisine_Tibetan</th>\n",
       "      <th>Rcuisine_Tunisian</th>\n",
       "      <th>Rcuisine_Turkish</th>\n",
       "      <th>Rcuisine_Vegetarian</th>\n",
       "      <th>Rcuisine_Vietnamese</th>\n",
       "    </tr>\n",
       "  </thead>\n",
       "  <tbody>\n",
       "    <tr>\n",
       "      <th>0</th>\n",
       "      <td>U1001</td>\n",
       "      <td>0</td>\n",
       "      <td>0</td>\n",
       "      <td>1</td>\n",
       "      <td>0</td>\n",
       "      <td>0</td>\n",
       "      <td>0</td>\n",
       "      <td>0</td>\n",
       "      <td>0</td>\n",
       "      <td>0</td>\n",
       "      <td>...</td>\n",
       "      <td>0</td>\n",
       "      <td>0</td>\n",
       "      <td>0</td>\n",
       "      <td>0</td>\n",
       "      <td>0</td>\n",
       "      <td>0</td>\n",
       "      <td>0</td>\n",
       "      <td>0</td>\n",
       "      <td>0</td>\n",
       "      <td>0</td>\n",
       "    </tr>\n",
       "    <tr>\n",
       "      <th>1</th>\n",
       "      <td>U1002</td>\n",
       "      <td>0</td>\n",
       "      <td>0</td>\n",
       "      <td>0</td>\n",
       "      <td>0</td>\n",
       "      <td>0</td>\n",
       "      <td>0</td>\n",
       "      <td>0</td>\n",
       "      <td>0</td>\n",
       "      <td>0</td>\n",
       "      <td>...</td>\n",
       "      <td>0</td>\n",
       "      <td>0</td>\n",
       "      <td>0</td>\n",
       "      <td>0</td>\n",
       "      <td>0</td>\n",
       "      <td>0</td>\n",
       "      <td>0</td>\n",
       "      <td>0</td>\n",
       "      <td>0</td>\n",
       "      <td>0</td>\n",
       "    </tr>\n",
       "    <tr>\n",
       "      <th>2</th>\n",
       "      <td>U1003</td>\n",
       "      <td>0</td>\n",
       "      <td>0</td>\n",
       "      <td>0</td>\n",
       "      <td>0</td>\n",
       "      <td>0</td>\n",
       "      <td>0</td>\n",
       "      <td>0</td>\n",
       "      <td>0</td>\n",
       "      <td>0</td>\n",
       "      <td>...</td>\n",
       "      <td>0</td>\n",
       "      <td>0</td>\n",
       "      <td>0</td>\n",
       "      <td>0</td>\n",
       "      <td>0</td>\n",
       "      <td>0</td>\n",
       "      <td>0</td>\n",
       "      <td>0</td>\n",
       "      <td>0</td>\n",
       "      <td>0</td>\n",
       "    </tr>\n",
       "    <tr>\n",
       "      <th>3</th>\n",
       "      <td>U1004</td>\n",
       "      <td>0</td>\n",
       "      <td>0</td>\n",
       "      <td>0</td>\n",
       "      <td>0</td>\n",
       "      <td>0</td>\n",
       "      <td>0</td>\n",
       "      <td>0</td>\n",
       "      <td>1</td>\n",
       "      <td>1</td>\n",
       "      <td>...</td>\n",
       "      <td>0</td>\n",
       "      <td>0</td>\n",
       "      <td>0</td>\n",
       "      <td>0</td>\n",
       "      <td>0</td>\n",
       "      <td>0</td>\n",
       "      <td>0</td>\n",
       "      <td>0</td>\n",
       "      <td>0</td>\n",
       "      <td>0</td>\n",
       "    </tr>\n",
       "    <tr>\n",
       "      <th>4</th>\n",
       "      <td>U1005</td>\n",
       "      <td>0</td>\n",
       "      <td>0</td>\n",
       "      <td>1</td>\n",
       "      <td>0</td>\n",
       "      <td>0</td>\n",
       "      <td>0</td>\n",
       "      <td>0</td>\n",
       "      <td>0</td>\n",
       "      <td>0</td>\n",
       "      <td>...</td>\n",
       "      <td>0</td>\n",
       "      <td>0</td>\n",
       "      <td>0</td>\n",
       "      <td>0</td>\n",
       "      <td>0</td>\n",
       "      <td>0</td>\n",
       "      <td>0</td>\n",
       "      <td>0</td>\n",
       "      <td>0</td>\n",
       "      <td>0</td>\n",
       "    </tr>\n",
       "  </tbody>\n",
       "</table>\n",
       "<p>5 rows × 104 columns</p>\n",
       "</div>"
      ],
      "text/plain": [
       "  userID  Rcuisine_Afghan  Rcuisine_African  Rcuisine_American  \\\n",
       "0  U1001                0                 0                  1   \n",
       "1  U1002                0                 0                  0   \n",
       "2  U1003                0                 0                  0   \n",
       "3  U1004                0                 0                  0   \n",
       "4  U1005                0                 0                  1   \n",
       "\n",
       "   Rcuisine_Armenian  Rcuisine_Asian  Rcuisine_Australian  Rcuisine_Austrian  \\\n",
       "0                  0               0                    0                  0   \n",
       "1                  0               0                    0                  0   \n",
       "2                  0               0                    0                  0   \n",
       "3                  0               0                    0                  0   \n",
       "4                  0               0                    0                  0   \n",
       "\n",
       "   Rcuisine_Bagels  Rcuisine_Bakery         ...           Rcuisine_Swiss  \\\n",
       "0                0                0         ...                        0   \n",
       "1                0                0         ...                        0   \n",
       "2                0                0         ...                        0   \n",
       "3                1                1         ...                        0   \n",
       "4                0                0         ...                        0   \n",
       "\n",
       "   Rcuisine_Tapas  Rcuisine_Tea_House  Rcuisine_Tex-Mex  Rcuisine_Thai  \\\n",
       "0               0                   0                 0              0   \n",
       "1               0                   0                 0              0   \n",
       "2               0                   0                 0              0   \n",
       "3               0                   0                 0              0   \n",
       "4               0                   0                 0              0   \n",
       "\n",
       "   Rcuisine_Tibetan  Rcuisine_Tunisian  Rcuisine_Turkish  Rcuisine_Vegetarian  \\\n",
       "0                 0                  0                 0                    0   \n",
       "1                 0                  0                 0                    0   \n",
       "2                 0                  0                 0                    0   \n",
       "3                 0                  0                 0                    0   \n",
       "4                 0                  0                 0                    0   \n",
       "\n",
       "   Rcuisine_Vietnamese  \n",
       "0                    0  \n",
       "1                    0  \n",
       "2                    0  \n",
       "3                    0  \n",
       "4                    0  \n",
       "\n",
       "[5 rows x 104 columns]"
      ]
     },
     "execution_count": 25,
     "metadata": {},
     "output_type": "execute_result"
    }
   ],
   "source": [
    "F5dum1.head()"
   ]
  },
  {
   "cell_type": "markdown",
   "metadata": {},
   "source": [
    "# F6 - userpayment.csv"
   ]
  },
  {
   "cell_type": "code",
   "execution_count": 26,
   "metadata": {},
   "outputs": [
    {
     "data": {
      "text/html": [
       "<div>\n",
       "<style scoped>\n",
       "    .dataframe tbody tr th:only-of-type {\n",
       "        vertical-align: middle;\n",
       "    }\n",
       "\n",
       "    .dataframe tbody tr th {\n",
       "        vertical-align: top;\n",
       "    }\n",
       "\n",
       "    .dataframe thead th {\n",
       "        text-align: right;\n",
       "    }\n",
       "</style>\n",
       "<table border=\"1\" class=\"dataframe\">\n",
       "  <thead>\n",
       "    <tr style=\"text-align: right;\">\n",
       "      <th></th>\n",
       "      <th>userID</th>\n",
       "      <th>Upayment</th>\n",
       "    </tr>\n",
       "  </thead>\n",
       "  <tbody>\n",
       "    <tr>\n",
       "      <th>0</th>\n",
       "      <td>U1001</td>\n",
       "      <td>cash</td>\n",
       "    </tr>\n",
       "    <tr>\n",
       "      <th>1</th>\n",
       "      <td>U1002</td>\n",
       "      <td>cash</td>\n",
       "    </tr>\n",
       "    <tr>\n",
       "      <th>2</th>\n",
       "      <td>U1003</td>\n",
       "      <td>cash</td>\n",
       "    </tr>\n",
       "    <tr>\n",
       "      <th>3</th>\n",
       "      <td>U1004</td>\n",
       "      <td>cash</td>\n",
       "    </tr>\n",
       "    <tr>\n",
       "      <th>4</th>\n",
       "      <td>U1004</td>\n",
       "      <td>bank_debit_cards</td>\n",
       "    </tr>\n",
       "  </tbody>\n",
       "</table>\n",
       "</div>"
      ],
      "text/plain": [
       "  userID          Upayment\n",
       "0  U1001              cash\n",
       "1  U1002              cash\n",
       "2  U1003              cash\n",
       "3  U1004              cash\n",
       "4  U1004  bank_debit_cards"
      ]
     },
     "execution_count": 26,
     "metadata": {},
     "output_type": "execute_result"
    }
   ],
   "source": [
    "F6.head()"
   ]
  },
  {
   "cell_type": "code",
   "execution_count": 27,
   "metadata": {},
   "outputs": [
    {
     "name": "stdout",
     "output_type": "stream",
     "text": [
      "<class 'pandas.core.frame.DataFrame'>\n",
      "RangeIndex: 177 entries, 0 to 176\n",
      "Data columns (total 2 columns):\n",
      "userID      177 non-null object\n",
      "Upayment    177 non-null object\n",
      "dtypes: object(2)\n",
      "memory usage: 2.8+ KB\n"
     ]
    }
   ],
   "source": [
    "F6.info()"
   ]
  },
  {
   "cell_type": "code",
   "execution_count": 28,
   "metadata": {},
   "outputs": [
    {
     "data": {
      "text/plain": [
       "Text(0,0.5,'count')"
      ]
     },
     "execution_count": 28,
     "metadata": {},
     "output_type": "execute_result"
    },
    {
     "data": {
      "image/png": "[encoded data removed]",
      "text/plain": [
       "<matplotlib.figure.Figure at 0x25a84a64f60>"
      ]
     },
     "metadata": {},
     "output_type": "display_data"
    }
   ],
   "source": [
    "#top type of payments done by the users\n",
    "F6plt=F6.Upayment.value_counts().plot.bar(title=\"User payments\")\n",
    "F6plt.set_xlabel('User payments',size=15)\n",
    "F6plt.set_ylabel('count',size=15)"
   ]
  },
  {
   "cell_type": "code",
   "execution_count": 29,
   "metadata": {},
   "outputs": [
    {
     "data": {
      "text/plain": [
       "133"
      ]
     },
     "execution_count": 29,
     "metadata": {},
     "output_type": "execute_result"
    }
   ],
   "source": [
    "#creating dummy variables for different userpayments.\n",
    "F6dum = pd.get_dummies(F6,columns=['Upayment'])\n",
    "F6dum1 =F6dum.groupby('userID',as_index=False).sum()\n",
    "len(F6dum1)"
   ]
  },
  {
   "cell_type": "code",
   "execution_count": 30,
   "metadata": {},
   "outputs": [
    {
     "data": {
      "text/html": [
       "<div>\n",
       "<style scoped>\n",
       "    .dataframe tbody tr th:only-of-type {\n",
       "        vertical-align: middle;\n",
       "    }\n",
       "\n",
       "    .dataframe tbody tr th {\n",
       "        vertical-align: top;\n",
       "    }\n",
       "\n",
       "    .dataframe thead th {\n",
       "        text-align: right;\n",
       "    }\n",
       "</style>\n",
       "<table border=\"1\" class=\"dataframe\">\n",
       "  <thead>\n",
       "    <tr style=\"text-align: right;\">\n",
       "      <th></th>\n",
       "      <th>userID</th>\n",
       "      <th>Upayment_American_Express</th>\n",
       "      <th>Upayment_MasterCard-Eurocard</th>\n",
       "      <th>Upayment_VISA</th>\n",
       "      <th>Upayment_bank_debit_cards</th>\n",
       "      <th>Upayment_cash</th>\n",
       "    </tr>\n",
       "  </thead>\n",
       "  <tbody>\n",
       "    <tr>\n",
       "      <th>0</th>\n",
       "      <td>U1001</td>\n",
       "      <td>0</td>\n",
       "      <td>0</td>\n",
       "      <td>0</td>\n",
       "      <td>0</td>\n",
       "      <td>1</td>\n",
       "    </tr>\n",
       "    <tr>\n",
       "      <th>1</th>\n",
       "      <td>U1002</td>\n",
       "      <td>0</td>\n",
       "      <td>0</td>\n",
       "      <td>0</td>\n",
       "      <td>0</td>\n",
       "      <td>1</td>\n",
       "    </tr>\n",
       "    <tr>\n",
       "      <th>2</th>\n",
       "      <td>U1003</td>\n",
       "      <td>0</td>\n",
       "      <td>0</td>\n",
       "      <td>0</td>\n",
       "      <td>0</td>\n",
       "      <td>1</td>\n",
       "    </tr>\n",
       "    <tr>\n",
       "      <th>3</th>\n",
       "      <td>U1004</td>\n",
       "      <td>0</td>\n",
       "      <td>0</td>\n",
       "      <td>0</td>\n",
       "      <td>1</td>\n",
       "      <td>1</td>\n",
       "    </tr>\n",
       "    <tr>\n",
       "      <th>4</th>\n",
       "      <td>U1005</td>\n",
       "      <td>0</td>\n",
       "      <td>0</td>\n",
       "      <td>0</td>\n",
       "      <td>0</td>\n",
       "      <td>1</td>\n",
       "    </tr>\n",
       "  </tbody>\n",
       "</table>\n",
       "</div>"
      ],
      "text/plain": [
       "  userID  Upayment_American_Express  Upayment_MasterCard-Eurocard  \\\n",
       "0  U1001                          0                             0   \n",
       "1  U1002                          0                             0   \n",
       "2  U1003                          0                             0   \n",
       "3  U1004                          0                             0   \n",
       "4  U1005                          0                             0   \n",
       "\n",
       "   Upayment_VISA  Upayment_bank_debit_cards  Upayment_cash  \n",
       "0              0                          0              1  \n",
       "1              0                          0              1  \n",
       "2              0                          0              1  \n",
       "3              0                          1              1  \n",
       "4              0                          0              1  "
      ]
     },
     "execution_count": 30,
     "metadata": {},
     "output_type": "execute_result"
    }
   ],
   "source": [
    "F6dum1.head()"
   ]
  },
  {
   "cell_type": "markdown",
   "metadata": {},
   "source": [
    "# F7 - userprofile.csv"
   ]
  },
  {
   "cell_type": "code",
   "execution_count": 31,
   "metadata": {},
   "outputs": [
    {
     "data": {
      "text/html": [
       "<div>\n",
       "<style scoped>\n",
       "    .dataframe tbody tr th:only-of-type {\n",
       "        vertical-align: middle;\n",
       "    }\n",
       "\n",
       "    .dataframe tbody tr th {\n",
       "        vertical-align: top;\n",
       "    }\n",
       "\n",
       "    .dataframe thead th {\n",
       "        text-align: right;\n",
       "    }\n",
       "</style>\n",
       "<table border=\"1\" class=\"dataframe\">\n",
       "  <thead>\n",
       "    <tr style=\"text-align: right;\">\n",
       "      <th></th>\n",
       "      <th>userID</th>\n",
       "      <th>latitude</th>\n",
       "      <th>longitude</th>\n",
       "      <th>smoker</th>\n",
       "      <th>drink_level</th>\n",
       "      <th>dress_preference</th>\n",
       "      <th>ambience</th>\n",
       "      <th>transport</th>\n",
       "      <th>marital_status</th>\n",
       "      <th>hijos</th>\n",
       "      <th>birth_year</th>\n",
       "      <th>interest</th>\n",
       "      <th>personality</th>\n",
       "      <th>religion</th>\n",
       "      <th>activity</th>\n",
       "      <th>color</th>\n",
       "      <th>weight</th>\n",
       "      <th>budget</th>\n",
       "      <th>height</th>\n",
       "    </tr>\n",
       "  </thead>\n",
       "  <tbody>\n",
       "    <tr>\n",
       "      <th>0</th>\n",
       "      <td>U1001</td>\n",
       "      <td>22.139997</td>\n",
       "      <td>-100.978803</td>\n",
       "      <td>false</td>\n",
       "      <td>abstemious</td>\n",
       "      <td>informal</td>\n",
       "      <td>family</td>\n",
       "      <td>on foot</td>\n",
       "      <td>single</td>\n",
       "      <td>independent</td>\n",
       "      <td>1989</td>\n",
       "      <td>variety</td>\n",
       "      <td>thrifty-protector</td>\n",
       "      <td>none</td>\n",
       "      <td>student</td>\n",
       "      <td>black</td>\n",
       "      <td>69</td>\n",
       "      <td>medium</td>\n",
       "      <td>1.77</td>\n",
       "    </tr>\n",
       "    <tr>\n",
       "      <th>1</th>\n",
       "      <td>U1002</td>\n",
       "      <td>22.150087</td>\n",
       "      <td>-100.983325</td>\n",
       "      <td>false</td>\n",
       "      <td>abstemious</td>\n",
       "      <td>informal</td>\n",
       "      <td>family</td>\n",
       "      <td>public</td>\n",
       "      <td>single</td>\n",
       "      <td>independent</td>\n",
       "      <td>1990</td>\n",
       "      <td>technology</td>\n",
       "      <td>hunter-ostentatious</td>\n",
       "      <td>Catholic</td>\n",
       "      <td>student</td>\n",
       "      <td>red</td>\n",
       "      <td>40</td>\n",
       "      <td>low</td>\n",
       "      <td>1.87</td>\n",
       "    </tr>\n",
       "    <tr>\n",
       "      <th>2</th>\n",
       "      <td>U1003</td>\n",
       "      <td>22.119847</td>\n",
       "      <td>-100.946527</td>\n",
       "      <td>false</td>\n",
       "      <td>social drinker</td>\n",
       "      <td>formal</td>\n",
       "      <td>family</td>\n",
       "      <td>public</td>\n",
       "      <td>single</td>\n",
       "      <td>independent</td>\n",
       "      <td>1989</td>\n",
       "      <td>none</td>\n",
       "      <td>hard-worker</td>\n",
       "      <td>Catholic</td>\n",
       "      <td>student</td>\n",
       "      <td>blue</td>\n",
       "      <td>60</td>\n",
       "      <td>low</td>\n",
       "      <td>1.69</td>\n",
       "    </tr>\n",
       "    <tr>\n",
       "      <th>3</th>\n",
       "      <td>U1004</td>\n",
       "      <td>18.867000</td>\n",
       "      <td>-99.183000</td>\n",
       "      <td>false</td>\n",
       "      <td>abstemious</td>\n",
       "      <td>informal</td>\n",
       "      <td>family</td>\n",
       "      <td>public</td>\n",
       "      <td>single</td>\n",
       "      <td>independent</td>\n",
       "      <td>1940</td>\n",
       "      <td>variety</td>\n",
       "      <td>hard-worker</td>\n",
       "      <td>none</td>\n",
       "      <td>professional</td>\n",
       "      <td>green</td>\n",
       "      <td>44</td>\n",
       "      <td>medium</td>\n",
       "      <td>1.53</td>\n",
       "    </tr>\n",
       "    <tr>\n",
       "      <th>4</th>\n",
       "      <td>U1005</td>\n",
       "      <td>22.183477</td>\n",
       "      <td>-100.959891</td>\n",
       "      <td>false</td>\n",
       "      <td>abstemious</td>\n",
       "      <td>no preference</td>\n",
       "      <td>family</td>\n",
       "      <td>public</td>\n",
       "      <td>single</td>\n",
       "      <td>independent</td>\n",
       "      <td>1992</td>\n",
       "      <td>none</td>\n",
       "      <td>thrifty-protector</td>\n",
       "      <td>Catholic</td>\n",
       "      <td>student</td>\n",
       "      <td>black</td>\n",
       "      <td>65</td>\n",
       "      <td>medium</td>\n",
       "      <td>1.69</td>\n",
       "    </tr>\n",
       "  </tbody>\n",
       "</table>\n",
       "</div>"
      ],
      "text/plain": [
       "  userID   latitude   longitude smoker     drink_level dress_preference  \\\n",
       "0  U1001  22.139997 -100.978803  false      abstemious         informal   \n",
       "1  U1002  22.150087 -100.983325  false      abstemious         informal   \n",
       "2  U1003  22.119847 -100.946527  false  social drinker           formal   \n",
       "3  U1004  18.867000  -99.183000  false      abstemious         informal   \n",
       "4  U1005  22.183477 -100.959891  false      abstemious    no preference   \n",
       "\n",
       "  ambience transport marital_status        hijos  birth_year    interest  \\\n",
       "0   family   on foot         single  independent        1989     variety   \n",
       "1   family    public         single  independent        1990  technology   \n",
       "2   family    public         single  independent        1989        none   \n",
       "3   family    public         single  independent        1940     variety   \n",
       "4   family    public         single  independent        1992        none   \n",
       "\n",
       "           personality  religion      activity  color  weight  budget  height  \n",
       "0    thrifty-protector      none       student  black      69  medium    1.77  \n",
       "1  hunter-ostentatious  Catholic       student    red      40     low    1.87  \n",
       "2          hard-worker  Catholic       student   blue      60     low    1.69  \n",
       "3          hard-worker      none  professional  green      44  medium    1.53  \n",
       "4    thrifty-protector  Catholic       student  black      65  medium    1.69  "
      ]
     },
     "execution_count": 31,
     "metadata": {},
     "output_type": "execute_result"
    }
   ],
   "source": [
    "F7.head()"
   ]
  },
  {
   "cell_type": "code",
   "execution_count": 32,
   "metadata": {
    "scrolled": true
   },
   "outputs": [
    {
     "name": "stdout",
     "output_type": "stream",
     "text": [
      "<class 'pandas.core.frame.DataFrame'>\n",
      "RangeIndex: 138 entries, 0 to 137\n",
      "Data columns (total 19 columns):\n",
      "userID              138 non-null object\n",
      "latitude            138 non-null float64\n",
      "longitude           138 non-null float64\n",
      "smoker              138 non-null object\n",
      "drink_level         138 non-null object\n",
      "dress_preference    138 non-null object\n",
      "ambience            138 non-null object\n",
      "transport           138 non-null object\n",
      "marital_status      138 non-null object\n",
      "hijos               138 non-null object\n",
      "birth_year          138 non-null int64\n",
      "interest            138 non-null object\n",
      "personality         138 non-null object\n",
      "religion            138 non-null object\n",
      "activity            138 non-null object\n",
      "color               138 non-null object\n",
      "weight              138 non-null int64\n",
      "budget              138 non-null object\n",
      "height              138 non-null float64\n",
      "dtypes: float64(3), int64(2), object(14)\n",
      "memory usage: 20.6+ KB\n"
     ]
    }
   ],
   "source": [
    "F7.info()"
   ]
  },
  {
   "cell_type": "code",
   "execution_count": 33,
   "metadata": {},
   "outputs": [],
   "source": [
    "# as data contains unknown value, we are replacinf with Nan.\n",
    "F7rep=F7.replace('?', np.nan)"
   ]
  },
  {
   "cell_type": "code",
   "execution_count": 34,
   "metadata": {
    "scrolled": true
   },
   "outputs": [
    {
     "data": {
      "text/html": [
       "<div>\n",
       "<style scoped>\n",
       "    .dataframe tbody tr th:only-of-type {\n",
       "        vertical-align: middle;\n",
       "    }\n",
       "\n",
       "    .dataframe tbody tr th {\n",
       "        vertical-align: top;\n",
       "    }\n",
       "\n",
       "    .dataframe thead th {\n",
       "        text-align: right;\n",
       "    }\n",
       "</style>\n",
       "<table border=\"1\" class=\"dataframe\">\n",
       "  <thead>\n",
       "    <tr style=\"text-align: right;\">\n",
       "      <th></th>\n",
       "      <th>missing_cnt</th>\n",
       "      <th>percent_missing</th>\n",
       "    </tr>\n",
       "  </thead>\n",
       "  <tbody>\n",
       "    <tr>\n",
       "      <th>userID</th>\n",
       "      <td>0</td>\n",
       "      <td>0.000000</td>\n",
       "    </tr>\n",
       "    <tr>\n",
       "      <th>latitude</th>\n",
       "      <td>0</td>\n",
       "      <td>0.000000</td>\n",
       "    </tr>\n",
       "    <tr>\n",
       "      <th>longitude</th>\n",
       "      <td>0</td>\n",
       "      <td>0.000000</td>\n",
       "    </tr>\n",
       "    <tr>\n",
       "      <th>smoker</th>\n",
       "      <td>3</td>\n",
       "      <td>2.173913</td>\n",
       "    </tr>\n",
       "    <tr>\n",
       "      <th>drink_level</th>\n",
       "      <td>0</td>\n",
       "      <td>0.000000</td>\n",
       "    </tr>\n",
       "    <tr>\n",
       "      <th>dress_preference</th>\n",
       "      <td>5</td>\n",
       "      <td>3.623188</td>\n",
       "    </tr>\n",
       "    <tr>\n",
       "      <th>ambience</th>\n",
       "      <td>6</td>\n",
       "      <td>4.347826</td>\n",
       "    </tr>\n",
       "    <tr>\n",
       "      <th>transport</th>\n",
       "      <td>7</td>\n",
       "      <td>5.072464</td>\n",
       "    </tr>\n",
       "    <tr>\n",
       "      <th>marital_status</th>\n",
       "      <td>4</td>\n",
       "      <td>2.898551</td>\n",
       "    </tr>\n",
       "    <tr>\n",
       "      <th>hijos</th>\n",
       "      <td>11</td>\n",
       "      <td>7.971014</td>\n",
       "    </tr>\n",
       "    <tr>\n",
       "      <th>birth_year</th>\n",
       "      <td>0</td>\n",
       "      <td>0.000000</td>\n",
       "    </tr>\n",
       "    <tr>\n",
       "      <th>interest</th>\n",
       "      <td>0</td>\n",
       "      <td>0.000000</td>\n",
       "    </tr>\n",
       "    <tr>\n",
       "      <th>personality</th>\n",
       "      <td>0</td>\n",
       "      <td>0.000000</td>\n",
       "    </tr>\n",
       "    <tr>\n",
       "      <th>religion</th>\n",
       "      <td>0</td>\n",
       "      <td>0.000000</td>\n",
       "    </tr>\n",
       "    <tr>\n",
       "      <th>activity</th>\n",
       "      <td>7</td>\n",
       "      <td>5.072464</td>\n",
       "    </tr>\n",
       "    <tr>\n",
       "      <th>color</th>\n",
       "      <td>0</td>\n",
       "      <td>0.000000</td>\n",
       "    </tr>\n",
       "    <tr>\n",
       "      <th>weight</th>\n",
       "      <td>0</td>\n",
       "      <td>0.000000</td>\n",
       "    </tr>\n",
       "    <tr>\n",
       "      <th>budget</th>\n",
       "      <td>7</td>\n",
       "      <td>5.072464</td>\n",
       "    </tr>\n",
       "    <tr>\n",
       "      <th>height</th>\n",
       "      <td>0</td>\n",
       "      <td>0.000000</td>\n",
       "    </tr>\n",
       "  </tbody>\n",
       "</table>\n",
       "</div>"
      ],
      "text/plain": [
       "                  missing_cnt  percent_missing\n",
       "userID                      0         0.000000\n",
       "latitude                    0         0.000000\n",
       "longitude                   0         0.000000\n",
       "smoker                      3         2.173913\n",
       "drink_level                 0         0.000000\n",
       "dress_preference            5         3.623188\n",
       "ambience                    6         4.347826\n",
       "transport                   7         5.072464\n",
       "marital_status              4         2.898551\n",
       "hijos                      11         7.971014\n",
       "birth_year                  0         0.000000\n",
       "interest                    0         0.000000\n",
       "personality                 0         0.000000\n",
       "religion                    0         0.000000\n",
       "activity                    7         5.072464\n",
       "color                       0         0.000000\n",
       "weight                      0         0.000000\n",
       "budget                      7         5.072464\n",
       "height                      0         0.000000"
      ]
     },
     "execution_count": 34,
     "metadata": {},
     "output_type": "execute_result"
    }
   ],
   "source": [
    "#now we are finding missing value cnt n perct for all variables.\n",
    "mss=F7rep.isnull().sum()\n",
    "columns = F7rep.columns\n",
    "percent_missing = F7rep.isnull().sum() * 100 / len(F7rep)\n",
    "missing_value_F7rep = pd.DataFrame({'missing_cnt':mss,'percent_missing': percent_missing})\n",
    "missing_value_F7rep"
   ]
  },
  {
   "cell_type": "code",
   "execution_count": 35,
   "metadata": {},
   "outputs": [],
   "source": [
    "#since the missing value pernt is very low in each variables, we are replacing with mode of that individual column.\n",
    "for column in F7rep.columns:\n",
    "    F7rep[column].fillna(F7rep[column].mode()[0], inplace=True)"
   ]
  },
  {
   "cell_type": "code",
   "execution_count": 36,
   "metadata": {},
   "outputs": [
    {
     "data": {
      "text/plain": [
       "<matplotlib.axes._subplots.AxesSubplot at 0x25a84bd09b0>"
      ]
     },
     "execution_count": 36,
     "metadata": {},
     "output_type": "execute_result"
    },
    {
     "data": {
      "image/png": "[encoded data removed]",
      "text/plain": [
       "<matplotlib.figure.Figure at 0x25a84b3bcf8>"
      ]
     },
     "metadata": {},
     "output_type": "display_data"
    }
   ],
   "source": [
    "#plotting for marital status vs smoker n drinklevel.\n",
    "F7rep.groupby('marital_status')['smoker','drink_level'].nunique().plot.bar(rot=0)"
   ]
  },
  {
   "cell_type": "code",
   "execution_count": 37,
   "metadata": {},
   "outputs": [
    {
     "data": {
      "image/png": "[encoded data removed]",
      "text/plain": [
       "<matplotlib.figure.Figure at 0x25a84b9c6d8>"
      ]
     },
     "metadata": {},
     "output_type": "display_data"
    }
   ],
   "source": [
    "#plot to visualize user's personal info based on birthyear.\n",
    "F7repplt=F7rep.groupby('birth_year')['interest','personality','religion','activity'].nunique().plot.bar(figsize=(15, 5))"
   ]
  },
  {
   "cell_type": "code",
   "execution_count": 38,
   "metadata": {},
   "outputs": [
    {
     "data": {
      "text/html": [
       "<div>\n",
       "<style scoped>\n",
       "    .dataframe tbody tr th:only-of-type {\n",
       "        vertical-align: middle;\n",
       "    }\n",
       "\n",
       "    .dataframe tbody tr th {\n",
       "        vertical-align: top;\n",
       "    }\n",
       "\n",
       "    .dataframe thead th {\n",
       "        text-align: right;\n",
       "    }\n",
       "</style>\n",
       "<table border=\"1\" class=\"dataframe\">\n",
       "  <thead>\n",
       "    <tr style=\"text-align: right;\">\n",
       "      <th></th>\n",
       "      <th>smoker</th>\n",
       "      <th>drink_level</th>\n",
       "      <th>dress_preference</th>\n",
       "      <th>ambience</th>\n",
       "      <th>transport</th>\n",
       "      <th>marital_status</th>\n",
       "      <th>hijos</th>\n",
       "      <th>interest</th>\n",
       "      <th>personality</th>\n",
       "      <th>religion</th>\n",
       "      <th>activity</th>\n",
       "      <th>color</th>\n",
       "      <th>budget</th>\n",
       "      <th>userID</th>\n",
       "      <th>latitude</th>\n",
       "      <th>longitude</th>\n",
       "      <th>birth_year</th>\n",
       "      <th>weight</th>\n",
       "      <th>height</th>\n",
       "    </tr>\n",
       "  </thead>\n",
       "  <tbody>\n",
       "    <tr>\n",
       "      <th>0</th>\n",
       "      <td>3</td>\n",
       "      <td>1</td>\n",
       "      <td>6</td>\n",
       "      <td>4</td>\n",
       "      <td>9</td>\n",
       "      <td>10</td>\n",
       "      <td>5</td>\n",
       "      <td>13</td>\n",
       "      <td>12</td>\n",
       "      <td>8</td>\n",
       "      <td>11</td>\n",
       "      <td>2</td>\n",
       "      <td>7</td>\n",
       "      <td>U1001</td>\n",
       "      <td>22.139997</td>\n",
       "      <td>-100.978803</td>\n",
       "      <td>1989</td>\n",
       "      <td>69</td>\n",
       "      <td>1.77</td>\n",
       "    </tr>\n",
       "    <tr>\n",
       "      <th>1</th>\n",
       "      <td>3</td>\n",
       "      <td>2</td>\n",
       "      <td>7</td>\n",
       "      <td>4</td>\n",
       "      <td>9</td>\n",
       "      <td>11</td>\n",
       "      <td>6</td>\n",
       "      <td>13</td>\n",
       "      <td>5</td>\n",
       "      <td>0</td>\n",
       "      <td>12</td>\n",
       "      <td>10</td>\n",
       "      <td>8</td>\n",
       "      <td>U1002</td>\n",
       "      <td>22.150087</td>\n",
       "      <td>-100.983325</td>\n",
       "      <td>1990</td>\n",
       "      <td>40</td>\n",
       "      <td>1.87</td>\n",
       "    </tr>\n",
       "    <tr>\n",
       "      <th>2</th>\n",
       "      <td>3</td>\n",
       "      <td>12</td>\n",
       "      <td>5</td>\n",
       "      <td>4</td>\n",
       "      <td>10</td>\n",
       "      <td>11</td>\n",
       "      <td>7</td>\n",
       "      <td>9</td>\n",
       "      <td>6</td>\n",
       "      <td>0</td>\n",
       "      <td>13</td>\n",
       "      <td>2</td>\n",
       "      <td>8</td>\n",
       "      <td>U1003</td>\n",
       "      <td>22.119847</td>\n",
       "      <td>-100.946527</td>\n",
       "      <td>1989</td>\n",
       "      <td>60</td>\n",
       "      <td>1.69</td>\n",
       "    </tr>\n",
       "    <tr>\n",
       "      <th>3</th>\n",
       "      <td>2</td>\n",
       "      <td>1</td>\n",
       "      <td>7</td>\n",
       "      <td>3</td>\n",
       "      <td>11</td>\n",
       "      <td>12</td>\n",
       "      <td>6</td>\n",
       "      <td>13</td>\n",
       "      <td>5</td>\n",
       "      <td>9</td>\n",
       "      <td>10</td>\n",
       "      <td>4</td>\n",
       "      <td>8</td>\n",
       "      <td>U1004</td>\n",
       "      <td>18.867000</td>\n",
       "      <td>-99.183000</td>\n",
       "      <td>1940</td>\n",
       "      <td>44</td>\n",
       "      <td>1.53</td>\n",
       "    </tr>\n",
       "    <tr>\n",
       "      <th>4</th>\n",
       "      <td>4</td>\n",
       "      <td>2</td>\n",
       "      <td>8</td>\n",
       "      <td>5</td>\n",
       "      <td>10</td>\n",
       "      <td>11</td>\n",
       "      <td>6</td>\n",
       "      <td>9</td>\n",
       "      <td>13</td>\n",
       "      <td>0</td>\n",
       "      <td>12</td>\n",
       "      <td>3</td>\n",
       "      <td>7</td>\n",
       "      <td>U1005</td>\n",
       "      <td>22.183477</td>\n",
       "      <td>-100.959891</td>\n",
       "      <td>1992</td>\n",
       "      <td>65</td>\n",
       "      <td>1.69</td>\n",
       "    </tr>\n",
       "  </tbody>\n",
       "</table>\n",
       "</div>"
      ],
      "text/plain": [
       "   smoker  drink_level  dress_preference  ambience  transport  marital_status  \\\n",
       "0       3            1                 6         4          9              10   \n",
       "1       3            2                 7         4          9              11   \n",
       "2       3           12                 5         4         10              11   \n",
       "3       2            1                 7         3         11              12   \n",
       "4       4            2                 8         5         10              11   \n",
       "\n",
       "   hijos  interest  personality  religion  activity  color  budget userID  \\\n",
       "0      5        13           12         8        11      2       7  U1001   \n",
       "1      6        13            5         0        12     10       8  U1002   \n",
       "2      7         9            6         0        13      2       8  U1003   \n",
       "3      6        13            5         9        10      4       8  U1004   \n",
       "4      6         9           13         0        12      3       7  U1005   \n",
       "\n",
       "    latitude   longitude  birth_year  weight  height  \n",
       "0  22.139997 -100.978803        1989      69    1.77  \n",
       "1  22.150087 -100.983325        1990      40    1.87  \n",
       "2  22.119847 -100.946527        1989      60    1.69  \n",
       "3  18.867000  -99.183000        1940      44    1.53  \n",
       "4  22.183477 -100.959891        1992      65    1.69  "
      ]
     },
     "execution_count": 38,
     "metadata": {},
     "output_type": "execute_result"
    }
   ],
   "source": [
    "#now performing label encoding to convert char to factors.\n",
    "F7char=F7rep.select_dtypes(include=['object'])\n",
    "\n",
    "encoder = LabelEncoder()\n",
    "F7charLE = F7char.apply(encoder.fit_transform, axis=1)\n",
    "F7charLE=F7charLE.drop(['userID'],axis=1)\n",
    "\n",
    "F7charLE[['userID','latitude','longitude','birth_year','weight','height']]=F7rep[['userID','latitude','longitude','birth_year','weight','height']]\n",
    "F7charLE.head()"
   ]
  },
  {
   "cell_type": "markdown",
   "metadata": {},
   "source": [
    "# F8 - geoplaces2.csv"
   ]
  },
  {
   "cell_type": "code",
   "execution_count": 39,
   "metadata": {},
   "outputs": [
    {
     "data": {
      "text/html": [
       "<div>\n",
       "<style scoped>\n",
       "    .dataframe tbody tr th:only-of-type {\n",
       "        vertical-align: middle;\n",
       "    }\n",
       "\n",
       "    .dataframe tbody tr th {\n",
       "        vertical-align: top;\n",
       "    }\n",
       "\n",
       "    .dataframe thead th {\n",
       "        text-align: right;\n",
       "    }\n",
       "</style>\n",
       "<table border=\"1\" class=\"dataframe\">\n",
       "  <thead>\n",
       "    <tr style=\"text-align: right;\">\n",
       "      <th></th>\n",
       "      <th>placeID</th>\n",
       "      <th>latitude</th>\n",
       "      <th>longitude</th>\n",
       "      <th>the_geom_meter</th>\n",
       "      <th>name</th>\n",
       "      <th>address</th>\n",
       "      <th>city</th>\n",
       "      <th>state</th>\n",
       "      <th>country</th>\n",
       "      <th>fax</th>\n",
       "      <th>...</th>\n",
       "      <th>alcohol</th>\n",
       "      <th>smoking_area</th>\n",
       "      <th>dress_code</th>\n",
       "      <th>accessibility</th>\n",
       "      <th>price</th>\n",
       "      <th>url</th>\n",
       "      <th>Rambience</th>\n",
       "      <th>franchise</th>\n",
       "      <th>area</th>\n",
       "      <th>other_services</th>\n",
       "    </tr>\n",
       "  </thead>\n",
       "  <tbody>\n",
       "    <tr>\n",
       "      <th>0</th>\n",
       "      <td>134999</td>\n",
       "      <td>18.915421</td>\n",
       "      <td>-99.184871</td>\n",
       "      <td>0101000020957F000088568DE356715AC138C0A525FC46...</td>\n",
       "      <td>Kiku Cuernavaca</td>\n",
       "      <td>Revolucion</td>\n",
       "      <td>Cuernavaca</td>\n",
       "      <td>Morelos</td>\n",
       "      <td>Mexico</td>\n",
       "      <td>?</td>\n",
       "      <td>...</td>\n",
       "      <td>No_Alcohol_Served</td>\n",
       "      <td>none</td>\n",
       "      <td>informal</td>\n",
       "      <td>no_accessibility</td>\n",
       "      <td>medium</td>\n",
       "      <td>kikucuernavaca.com.mx</td>\n",
       "      <td>familiar</td>\n",
       "      <td>f</td>\n",
       "      <td>closed</td>\n",
       "      <td>none</td>\n",
       "    </tr>\n",
       "    <tr>\n",
       "      <th>1</th>\n",
       "      <td>132825</td>\n",
       "      <td>22.147392</td>\n",
       "      <td>-100.983092</td>\n",
       "      <td>0101000020957F00001AD016568C4858C1243261274BA5...</td>\n",
       "      <td>puesto de tacos</td>\n",
       "      <td>esquina santos degollado y leon guzman</td>\n",
       "      <td>s.l.p.</td>\n",
       "      <td>s.l.p.</td>\n",
       "      <td>mexico</td>\n",
       "      <td>?</td>\n",
       "      <td>...</td>\n",
       "      <td>No_Alcohol_Served</td>\n",
       "      <td>none</td>\n",
       "      <td>informal</td>\n",
       "      <td>completely</td>\n",
       "      <td>low</td>\n",
       "      <td>?</td>\n",
       "      <td>familiar</td>\n",
       "      <td>f</td>\n",
       "      <td>open</td>\n",
       "      <td>none</td>\n",
       "    </tr>\n",
       "    <tr>\n",
       "      <th>2</th>\n",
       "      <td>135106</td>\n",
       "      <td>22.149709</td>\n",
       "      <td>-100.976093</td>\n",
       "      <td>0101000020957F0000649D6F21634858C119AE9BF528A3...</td>\n",
       "      <td>El Rincón de San Francisco</td>\n",
       "      <td>Universidad 169</td>\n",
       "      <td>San Luis Potosi</td>\n",
       "      <td>San Luis Potosi</td>\n",
       "      <td>Mexico</td>\n",
       "      <td>?</td>\n",
       "      <td>...</td>\n",
       "      <td>Wine-Beer</td>\n",
       "      <td>only at bar</td>\n",
       "      <td>informal</td>\n",
       "      <td>partially</td>\n",
       "      <td>medium</td>\n",
       "      <td>?</td>\n",
       "      <td>familiar</td>\n",
       "      <td>f</td>\n",
       "      <td>open</td>\n",
       "      <td>none</td>\n",
       "    </tr>\n",
       "    <tr>\n",
       "      <th>3</th>\n",
       "      <td>132667</td>\n",
       "      <td>23.752697</td>\n",
       "      <td>-99.163359</td>\n",
       "      <td>0101000020957F00005D67BCDDED8157C1222A2DC8D84D...</td>\n",
       "      <td>little pizza Emilio Portes Gil</td>\n",
       "      <td>calle emilio portes gil</td>\n",
       "      <td>victoria</td>\n",
       "      <td>tamaulipas</td>\n",
       "      <td>?</td>\n",
       "      <td>?</td>\n",
       "      <td>...</td>\n",
       "      <td>No_Alcohol_Served</td>\n",
       "      <td>none</td>\n",
       "      <td>informal</td>\n",
       "      <td>completely</td>\n",
       "      <td>low</td>\n",
       "      <td>?</td>\n",
       "      <td>familiar</td>\n",
       "      <td>t</td>\n",
       "      <td>closed</td>\n",
       "      <td>none</td>\n",
       "    </tr>\n",
       "    <tr>\n",
       "      <th>4</th>\n",
       "      <td>132613</td>\n",
       "      <td>23.752903</td>\n",
       "      <td>-99.165076</td>\n",
       "      <td>0101000020957F00008EBA2D06DC8157C194E03B7B504E...</td>\n",
       "      <td>carnitas_mata</td>\n",
       "      <td>lic. Emilio portes gil</td>\n",
       "      <td>victoria</td>\n",
       "      <td>Tamaulipas</td>\n",
       "      <td>Mexico</td>\n",
       "      <td>?</td>\n",
       "      <td>...</td>\n",
       "      <td>No_Alcohol_Served</td>\n",
       "      <td>permitted</td>\n",
       "      <td>informal</td>\n",
       "      <td>completely</td>\n",
       "      <td>medium</td>\n",
       "      <td>?</td>\n",
       "      <td>familiar</td>\n",
       "      <td>t</td>\n",
       "      <td>closed</td>\n",
       "      <td>none</td>\n",
       "    </tr>\n",
       "  </tbody>\n",
       "</table>\n",
       "<p>5 rows × 21 columns</p>\n",
       "</div>"
      ],
      "text/plain": [
       "   placeID   latitude   longitude  \\\n",
       "0   134999  18.915421  -99.184871   \n",
       "1   132825  22.147392 -100.983092   \n",
       "2   135106  22.149709 -100.976093   \n",
       "3   132667  23.752697  -99.163359   \n",
       "4   132613  23.752903  -99.165076   \n",
       "\n",
       "                                      the_geom_meter  \\\n",
       "0  0101000020957F000088568DE356715AC138C0A525FC46...   \n",
       "1  0101000020957F00001AD016568C4858C1243261274BA5...   \n",
       "2  0101000020957F0000649D6F21634858C119AE9BF528A3...   \n",
       "3  0101000020957F00005D67BCDDED8157C1222A2DC8D84D...   \n",
       "4  0101000020957F00008EBA2D06DC8157C194E03B7B504E...   \n",
       "\n",
       "                             name                                 address  \\\n",
       "0                 Kiku Cuernavaca                              Revolucion   \n",
       "1                 puesto de tacos  esquina santos degollado y leon guzman   \n",
       "2      El Rincón de San Francisco                         Universidad 169   \n",
       "3  little pizza Emilio Portes Gil                 calle emilio portes gil   \n",
       "4                   carnitas_mata                  lic. Emilio portes gil   \n",
       "\n",
       "              city            state country fax      ...        \\\n",
       "0       Cuernavaca          Morelos  Mexico   ?      ...         \n",
       "1           s.l.p.           s.l.p.  mexico   ?      ...         \n",
       "2  San Luis Potosi  San Luis Potosi  Mexico   ?      ...         \n",
       "3        victoria        tamaulipas       ?   ?      ...         \n",
       "4         victoria       Tamaulipas  Mexico   ?      ...         \n",
       "\n",
       "             alcohol smoking_area dress_code     accessibility   price  \\\n",
       "0  No_Alcohol_Served         none   informal  no_accessibility  medium   \n",
       "1  No_Alcohol_Served         none   informal        completely     low   \n",
       "2          Wine-Beer  only at bar   informal         partially  medium   \n",
       "3  No_Alcohol_Served         none   informal        completely     low   \n",
       "4  No_Alcohol_Served    permitted   informal        completely  medium   \n",
       "\n",
       "                     url Rambience franchise    area other_services  \n",
       "0  kikucuernavaca.com.mx  familiar         f  closed           none  \n",
       "1                      ?  familiar         f    open           none  \n",
       "2                      ?  familiar         f    open           none  \n",
       "3                      ?  familiar         t  closed           none  \n",
       "4                      ?  familiar         t  closed           none  \n",
       "\n",
       "[5 rows x 21 columns]"
      ]
     },
     "execution_count": 39,
     "metadata": {},
     "output_type": "execute_result"
    }
   ],
   "source": [
    "F8.head()"
   ]
  },
  {
   "cell_type": "code",
   "execution_count": 40,
   "metadata": {
    "scrolled": true
   },
   "outputs": [
    {
     "name": "stdout",
     "output_type": "stream",
     "text": [
      "<class 'pandas.core.frame.DataFrame'>\n",
      "RangeIndex: 130 entries, 0 to 129\n",
      "Data columns (total 21 columns):\n",
      "placeID           130 non-null int64\n",
      "latitude          130 non-null float64\n",
      "longitude         130 non-null float64\n",
      "the_geom_meter    130 non-null object\n",
      "name              130 non-null object\n",
      "address           130 non-null object\n",
      "city              130 non-null object\n",
      "state             130 non-null object\n",
      "country           130 non-null object\n",
      "fax               130 non-null object\n",
      "zip               130 non-null object\n",
      "alcohol           130 non-null object\n",
      "smoking_area      130 non-null object\n",
      "dress_code        130 non-null object\n",
      "accessibility     130 non-null object\n",
      "price             130 non-null object\n",
      "url               130 non-null object\n",
      "Rambience         130 non-null object\n",
      "franchise         130 non-null object\n",
      "area              130 non-null object\n",
      "other_services    130 non-null object\n",
      "dtypes: float64(2), int64(1), object(18)\n",
      "memory usage: 21.4+ KB\n"
     ]
    }
   ],
   "source": [
    "F8.info()"
   ]
  },
  {
   "cell_type": "code",
   "execution_count": 41,
   "metadata": {},
   "outputs": [],
   "source": [
    "#replacing unknown value with Nan.\n",
    "F8rep=F8.replace('?', np.nan)"
   ]
  },
  {
   "cell_type": "code",
   "execution_count": 42,
   "metadata": {
    "scrolled": true
   },
   "outputs": [
    {
     "data": {
      "text/html": [
       "<div>\n",
       "<style scoped>\n",
       "    .dataframe tbody tr th:only-of-type {\n",
       "        vertical-align: middle;\n",
       "    }\n",
       "\n",
       "    .dataframe tbody tr th {\n",
       "        vertical-align: top;\n",
       "    }\n",
       "\n",
       "    .dataframe thead th {\n",
       "        text-align: right;\n",
       "    }\n",
       "</style>\n",
       "<table border=\"1\" class=\"dataframe\">\n",
       "  <thead>\n",
       "    <tr style=\"text-align: right;\">\n",
       "      <th></th>\n",
       "      <th>missing_cnt</th>\n",
       "      <th>percent_missing</th>\n",
       "    </tr>\n",
       "  </thead>\n",
       "  <tbody>\n",
       "    <tr>\n",
       "      <th>placeID</th>\n",
       "      <td>0</td>\n",
       "      <td>0.000000</td>\n",
       "    </tr>\n",
       "    <tr>\n",
       "      <th>latitude</th>\n",
       "      <td>0</td>\n",
       "      <td>0.000000</td>\n",
       "    </tr>\n",
       "    <tr>\n",
       "      <th>longitude</th>\n",
       "      <td>0</td>\n",
       "      <td>0.000000</td>\n",
       "    </tr>\n",
       "    <tr>\n",
       "      <th>the_geom_meter</th>\n",
       "      <td>0</td>\n",
       "      <td>0.000000</td>\n",
       "    </tr>\n",
       "    <tr>\n",
       "      <th>name</th>\n",
       "      <td>0</td>\n",
       "      <td>0.000000</td>\n",
       "    </tr>\n",
       "    <tr>\n",
       "      <th>address</th>\n",
       "      <td>27</td>\n",
       "      <td>20.769231</td>\n",
       "    </tr>\n",
       "    <tr>\n",
       "      <th>city</th>\n",
       "      <td>18</td>\n",
       "      <td>13.846154</td>\n",
       "    </tr>\n",
       "    <tr>\n",
       "      <th>state</th>\n",
       "      <td>18</td>\n",
       "      <td>13.846154</td>\n",
       "    </tr>\n",
       "    <tr>\n",
       "      <th>country</th>\n",
       "      <td>28</td>\n",
       "      <td>21.538462</td>\n",
       "    </tr>\n",
       "    <tr>\n",
       "      <th>fax</th>\n",
       "      <td>130</td>\n",
       "      <td>100.000000</td>\n",
       "    </tr>\n",
       "    <tr>\n",
       "      <th>zip</th>\n",
       "      <td>74</td>\n",
       "      <td>56.923077</td>\n",
       "    </tr>\n",
       "    <tr>\n",
       "      <th>alcohol</th>\n",
       "      <td>0</td>\n",
       "      <td>0.000000</td>\n",
       "    </tr>\n",
       "    <tr>\n",
       "      <th>smoking_area</th>\n",
       "      <td>0</td>\n",
       "      <td>0.000000</td>\n",
       "    </tr>\n",
       "    <tr>\n",
       "      <th>dress_code</th>\n",
       "      <td>0</td>\n",
       "      <td>0.000000</td>\n",
       "    </tr>\n",
       "    <tr>\n",
       "      <th>accessibility</th>\n",
       "      <td>0</td>\n",
       "      <td>0.000000</td>\n",
       "    </tr>\n",
       "    <tr>\n",
       "      <th>price</th>\n",
       "      <td>0</td>\n",
       "      <td>0.000000</td>\n",
       "    </tr>\n",
       "    <tr>\n",
       "      <th>url</th>\n",
       "      <td>116</td>\n",
       "      <td>89.230769</td>\n",
       "    </tr>\n",
       "    <tr>\n",
       "      <th>Rambience</th>\n",
       "      <td>0</td>\n",
       "      <td>0.000000</td>\n",
       "    </tr>\n",
       "    <tr>\n",
       "      <th>franchise</th>\n",
       "      <td>0</td>\n",
       "      <td>0.000000</td>\n",
       "    </tr>\n",
       "    <tr>\n",
       "      <th>area</th>\n",
       "      <td>0</td>\n",
       "      <td>0.000000</td>\n",
       "    </tr>\n",
       "    <tr>\n",
       "      <th>other_services</th>\n",
       "      <td>0</td>\n",
       "      <td>0.000000</td>\n",
       "    </tr>\n",
       "  </tbody>\n",
       "</table>\n",
       "</div>"
      ],
      "text/plain": [
       "                missing_cnt  percent_missing\n",
       "placeID                   0         0.000000\n",
       "latitude                  0         0.000000\n",
       "longitude                 0         0.000000\n",
       "the_geom_meter            0         0.000000\n",
       "name                      0         0.000000\n",
       "address                  27        20.769231\n",
       "city                     18        13.846154\n",
       "state                    18        13.846154\n",
       "country                  28        21.538462\n",
       "fax                     130       100.000000\n",
       "zip                      74        56.923077\n",
       "alcohol                   0         0.000000\n",
       "smoking_area              0         0.000000\n",
       "dress_code                0         0.000000\n",
       "accessibility             0         0.000000\n",
       "price                     0         0.000000\n",
       "url                     116        89.230769\n",
       "Rambience                 0         0.000000\n",
       "franchise                 0         0.000000\n",
       "area                      0         0.000000\n",
       "other_services            0         0.000000"
      ]
     },
     "execution_count": 42,
     "metadata": {},
     "output_type": "execute_result"
    }
   ],
   "source": [
    "#now we are finding missing value cnt n perct for all variables.\n",
    "mss=F8rep.isnull().sum()\n",
    "columns = F8rep.columns\n",
    "percent_missing = F8rep.isnull().sum() * 100 / len(F8rep)\n",
    "missing_value_F8rep = pd.DataFrame({'missing_cnt':mss,\n",
    "                                 'percent_missing': percent_missing})\n",
    "missing_value_F8rep"
   ]
  },
  {
   "cell_type": "code",
   "execution_count": 43,
   "metadata": {},
   "outputs": [],
   "source": [
    "#dropping columns with more than 50% missing values\n",
    "F8new=F8rep.drop(['fax','zip','url'],axis=1)\n",
    "#and replacing remaining colvalues with mode\n",
    "for column in F8new.columns:\n",
    "    F8new[column].fillna(F8new[column].mode()[0], inplace=True)"
   ]
  },
  {
   "cell_type": "markdown",
   "metadata": {},
   "source": [
    "since some variables contains dirty values, we are going to perform data cleaning on those variables."
   ]
  },
  {
   "cell_type": "code",
   "execution_count": 44,
   "metadata": {},
   "outputs": [
    {
     "data": {
      "text/plain": [
       "san luis potosi     87\n",
       "cuernavaca          16\n",
       "victoria            10\n",
       "jiutepec             4\n",
       "slp                  3\n",
       "soledad              2\n",
       "ciudad victoria      2\n",
       "cd victoria          2\n",
       "victoria             2\n",
       "san luis potosi      1\n",
       "san luis potos       1\n",
       "Name: city, dtype: int64"
      ]
     },
     "execution_count": 44,
     "metadata": {},
     "output_type": "execute_result"
    }
   ],
   "source": [
    "#clean n cnt of city\n",
    "F8new.city=F8new.city.apply(lambda x: x.lower())\n",
    "F8new.city=F8new.city.apply(lambda x:''.join([i for i in x \n",
    "                            if i not in string.punctuation]))\n",
    "\n",
    "F8new.city.value_counts()"
   ]
  },
  {
   "cell_type": "code",
   "execution_count": 45,
   "metadata": {},
   "outputs": [
    {
     "data": {
      "text/plain": [
       "san luis potosi    92\n",
       "cuernavaca         16\n",
       "ciudad victoria    16\n",
       "jiutepec            4\n",
       "soledad             2\n",
       "Name: city, dtype: int64"
      ]
     },
     "execution_count": 45,
     "metadata": {},
     "output_type": "execute_result"
    }
   ],
   "source": [
    "#replacing city with unique. \n",
    "F8new['city']=F8new['city'].replace(['san luis potos','san luis potosi','slp','san luis potosi '],'san luis potosi' )\n",
    "F8new['city']=F8new['city'].replace(['victoria','cd victoria','victoria '],'ciudad victoria' )\n",
    "F8new.city.value_counts()"
   ]
  },
  {
   "cell_type": "code",
   "execution_count": 46,
   "metadata": {},
   "outputs": [
    {
     "data": {
      "text/plain": [
       "slp                73\n",
       "morelos            20\n",
       "san luis potosi    18\n",
       "tamaulipas         16\n",
       "mexico              2\n",
       "san luis potos      1\n",
       "Name: state, dtype: int64"
      ]
     },
     "execution_count": 46,
     "metadata": {},
     "output_type": "execute_result"
    }
   ],
   "source": [
    "#clean n cnt of state\n",
    "F8new.state=F8new.state.apply(lambda x: x.lower())\n",
    "F8new.state=F8new.state.apply(lambda x:''.join([i for i in x \n",
    "                            if i not in string.punctuation]))\n",
    "\n",
    "F8new.state.value_counts()"
   ]
  },
  {
   "cell_type": "code",
   "execution_count": 47,
   "metadata": {},
   "outputs": [
    {
     "data": {
      "text/plain": [
       "san luis potosi    92\n",
       "morelos            20\n",
       "tamaulipas         16\n",
       "mexico              2\n",
       "Name: state, dtype: int64"
      ]
     },
     "execution_count": 47,
     "metadata": {},
     "output_type": "execute_result"
    }
   ],
   "source": [
    "#replacing state with unique.\n",
    "F8new['state']=F8new['state'].replace(['san luis potos','san luis potosi','slp'],'san luis potosi' )\n",
    "F8new.state.value_counts()"
   ]
  },
  {
   "cell_type": "code",
   "execution_count": 48,
   "metadata": {},
   "outputs": [
    {
     "data": {
      "text/plain": [
       "mexico    130\n",
       "Name: country, dtype: int64"
      ]
     },
     "execution_count": 48,
     "metadata": {},
     "output_type": "execute_result"
    }
   ],
   "source": [
    "#clean n cnt of country\n",
    "F8new.country=F8new.country.apply(lambda x: x.lower())\n",
    "F8new.country=F8new.country.apply(lambda x:''.join([i for i in x \n",
    "                            if i not in string.punctuation]))\n",
    "\n",
    "F8new.country.value_counts()"
   ]
  },
  {
   "cell_type": "code",
   "execution_count": 49,
   "metadata": {
    "scrolled": true
   },
   "outputs": [
    {
     "data": {
      "text/html": [
       "<div>\n",
       "<style scoped>\n",
       "    .dataframe tbody tr th:only-of-type {\n",
       "        vertical-align: middle;\n",
       "    }\n",
       "\n",
       "    .dataframe tbody tr th {\n",
       "        vertical-align: top;\n",
       "    }\n",
       "\n",
       "    .dataframe thead th {\n",
       "        text-align: right;\n",
       "    }\n",
       "</style>\n",
       "<table border=\"1\" class=\"dataframe\">\n",
       "  <thead>\n",
       "    <tr style=\"text-align: right;\">\n",
       "      <th></th>\n",
       "      <th>the_geom_meter</th>\n",
       "      <th>name</th>\n",
       "      <th>address</th>\n",
       "      <th>city</th>\n",
       "      <th>state</th>\n",
       "      <th>country</th>\n",
       "      <th>alcohol</th>\n",
       "      <th>smoking_area</th>\n",
       "      <th>dress_code</th>\n",
       "      <th>accessibility</th>\n",
       "      <th>price</th>\n",
       "      <th>Rambience</th>\n",
       "      <th>franchise</th>\n",
       "      <th>area</th>\n",
       "      <th>other_services</th>\n",
       "      <th>placeID</th>\n",
       "      <th>latitude</th>\n",
       "      <th>longitude</th>\n",
       "    </tr>\n",
       "  </thead>\n",
       "  <tbody>\n",
       "    <tr>\n",
       "      <th>0</th>\n",
       "      <td>0</td>\n",
       "      <td>1</td>\n",
       "      <td>3</td>\n",
       "      <td>5</td>\n",
       "      <td>11</td>\n",
       "      <td>10</td>\n",
       "      <td>2</td>\n",
       "      <td>13</td>\n",
       "      <td>8</td>\n",
       "      <td>12</td>\n",
       "      <td>9</td>\n",
       "      <td>7</td>\n",
       "      <td>6</td>\n",
       "      <td>4</td>\n",
       "      <td>13</td>\n",
       "      <td>134999</td>\n",
       "      <td>18.915421</td>\n",
       "      <td>-99.184871</td>\n",
       "    </tr>\n",
       "    <tr>\n",
       "      <th>1</th>\n",
       "      <td>0</td>\n",
       "      <td>11</td>\n",
       "      <td>3</td>\n",
       "      <td>12</td>\n",
       "      <td>12</td>\n",
       "      <td>8</td>\n",
       "      <td>1</td>\n",
       "      <td>9</td>\n",
       "      <td>6</td>\n",
       "      <td>2</td>\n",
       "      <td>7</td>\n",
       "      <td>5</td>\n",
       "      <td>4</td>\n",
       "      <td>10</td>\n",
       "      <td>9</td>\n",
       "      <td>132825</td>\n",
       "      <td>22.147392</td>\n",
       "      <td>-100.983092</td>\n",
       "    </tr>\n",
       "    <tr>\n",
       "      <th>2</th>\n",
       "      <td>0</td>\n",
       "      <td>1</td>\n",
       "      <td>2</td>\n",
       "      <td>13</td>\n",
       "      <td>13</td>\n",
       "      <td>8</td>\n",
       "      <td>3</td>\n",
       "      <td>10</td>\n",
       "      <td>6</td>\n",
       "      <td>12</td>\n",
       "      <td>7</td>\n",
       "      <td>5</td>\n",
       "      <td>4</td>\n",
       "      <td>11</td>\n",
       "      <td>9</td>\n",
       "      <td>135106</td>\n",
       "      <td>22.149709</td>\n",
       "      <td>-100.976093</td>\n",
       "    </tr>\n",
       "    <tr>\n",
       "      <th>3</th>\n",
       "      <td>0</td>\n",
       "      <td>8</td>\n",
       "      <td>2</td>\n",
       "      <td>3</td>\n",
       "      <td>13</td>\n",
       "      <td>10</td>\n",
       "      <td>1</td>\n",
       "      <td>11</td>\n",
       "      <td>7</td>\n",
       "      <td>5</td>\n",
       "      <td>9</td>\n",
       "      <td>6</td>\n",
       "      <td>12</td>\n",
       "      <td>4</td>\n",
       "      <td>11</td>\n",
       "      <td>132667</td>\n",
       "      <td>23.752697</td>\n",
       "      <td>-99.163359</td>\n",
       "    </tr>\n",
       "    <tr>\n",
       "      <th>4</th>\n",
       "      <td>0</td>\n",
       "      <td>2</td>\n",
       "      <td>8</td>\n",
       "      <td>3</td>\n",
       "      <td>14</td>\n",
       "      <td>10</td>\n",
       "      <td>1</td>\n",
       "      <td>12</td>\n",
       "      <td>7</td>\n",
       "      <td>5</td>\n",
       "      <td>9</td>\n",
       "      <td>6</td>\n",
       "      <td>13</td>\n",
       "      <td>4</td>\n",
       "      <td>11</td>\n",
       "      <td>132613</td>\n",
       "      <td>23.752903</td>\n",
       "      <td>-99.165076</td>\n",
       "    </tr>\n",
       "  </tbody>\n",
       "</table>\n",
       "</div>"
      ],
      "text/plain": [
       "   the_geom_meter  name  address  city  state  country  alcohol  smoking_area  \\\n",
       "0               0     1        3     5     11       10        2            13   \n",
       "1               0    11        3    12     12        8        1             9   \n",
       "2               0     1        2    13     13        8        3            10   \n",
       "3               0     8        2     3     13       10        1            11   \n",
       "4               0     2        8     3     14       10        1            12   \n",
       "\n",
       "   dress_code  accessibility  price  Rambience  franchise  area  \\\n",
       "0           8             12      9          7          6     4   \n",
       "1           6              2      7          5          4    10   \n",
       "2           6             12      7          5          4    11   \n",
       "3           7              5      9          6         12     4   \n",
       "4           7              5      9          6         13     4   \n",
       "\n",
       "   other_services  placeID   latitude   longitude  \n",
       "0              13   134999  18.915421  -99.184871  \n",
       "1               9   132825  22.147392 -100.983092  \n",
       "2               9   135106  22.149709 -100.976093  \n",
       "3              11   132667  23.752697  -99.163359  \n",
       "4              11   132613  23.752903  -99.165076  "
      ]
     },
     "execution_count": 49,
     "metadata": {},
     "output_type": "execute_result"
    }
   ],
   "source": [
    "#label encoding\n",
    "F8char=F8new.select_dtypes(include=['object'])\n",
    "F8charLE = F8char.apply(encoder.fit_transform, axis=1)\n",
    "F8charLE[['placeID','latitude','longitude']]=F8new[['placeID','latitude','longitude']]\n",
    "F8charLE.head()"
   ]
  },
  {
   "cell_type": "code",
   "execution_count": 50,
   "metadata": {
    "scrolled": true
   },
   "outputs": [
    {
     "data": {
      "image/png": "[encoded data removed]",
      "text/plain": [
       "<matplotlib.figure.Figure at 0x25a84d95b70>"
      ]
     },
     "metadata": {},
     "output_type": "display_data"
    }
   ],
   "source": [
    "#plot for facilities provided by Restaurants based on city.\n",
    "F8newplt=F8new.groupby('city')['alcohol','smoking_area','accessibility','price','Rambience','other_services'].nunique().plot.bar(figsize=(15,5))"
   ]
  },
  {
   "cell_type": "markdown",
   "metadata": {},
   "source": [
    "Producing Map location for the Restaurants"
   ]
  },
  {
   "cell_type": "code",
   "execution_count": 52,
   "metadata": {},
   "outputs": [],
   "source": [
    "mapbox_access_token='pk.eyJ1IjoibmF2ZWVuOTIiLCJhIjoiY2pqbWlybTc2MTlmdjNwcGJ2NGt1dDFoOSJ9.z5Jt4XxKvu5voCJZBAenjQ'"
   ]
  },
  {
   "cell_type": "code",
   "execution_count": 61,
   "metadata": {
    "scrolled": true
   },
   "outputs": [
    {
     "data": {
      "application/vnd.plotly.v1+json": {
       "data": [
        {
         "lat": [
          18.915421,
          22.149708800000003,
          23.7529035,
          22.135617,
          23.754356899999998,
          23.760268300000003,
          22.151448000000002,
          22.152918,
          22.140129,
          22.14958,
          22.181017,
          22.141420999999998,
          22.1430781,
          22.1378633,
          22.1513782,
          22.14161,
          22.150642899999998,
          18.948657,
          22.136872,
          18.917441,
          22.159357,
          22.151189000000002,
          22.140626,
          22.178931,
          22.174887,
          22.14955,
          22.147879999999997,
          22.145992,
          22.156376,
          18.936683,
          22.15106,
          23.7588052,
          22.141282,
          22.1412384,
          22.145108,
          18.941859,
          22.156724,
          22.145007999999997,
          18.870565,
          22.16835,
          22.140517000000003,
          22.156882999999997,
          22.148854,
          22.149689000000002,
          18.859803,
          22.154687,
          22.155651000000002,
          22.164842,
          22.1489337,
          22.151189000000002,
          18.933537,
          22.150980999999998,
          18.910610000000002,
          22.1312917,
          22.148665,
          18.869347,
          22.150921,
          22.1544736,
          22.141848,
          22.145813,
          22.126375,
          22.142017000000003,
          22.1480965,
          23.7521965,
          23.7292162,
          18.932725,
          22.141647100000004,
          23.752707100000002,
          22.147145000000002,
          22.145893,
          18.923429000000002,
          22.153323999999998,
          22.185756,
          22.135011,
          22.147175,
          22.139573000000002,
          18.928798,
          22.153703,
          18.9101777,
          18.876011300000002,
          22.165587,
          22.1477379,
          22.152480999999998,
          22.146658,
          22.150802,
          18.922290399999998,
          22.141219800000002,
          22.149192000000003,
          18.875010999999997
         ],
         "lon": [
          -99.184871,
          -100.97609279999999,
          -99.165076,
          -100.969709,
          -99.171288,
          -99.16586459999999,
          -100.915099,
          -100.915164,
          -100.944872,
          -100.999557,
          -100.973614,
          -101.01395500000001,
          -100.9354788,
          -100.9383273,
          -100.97463370000001,
          -100.97314200000001,
          -100.9870148,
          -99.235361,
          -100.9345736,
          -99.165945,
          -100.973411,
          -100.98179,
          -100.915657,
          -101.012861,
          -100.970825,
          -100.97797,
          -100.98947199999999,
          -100.955118,
          -100.998355,
          -99.247366,
          -100.977659,
          -99.16512970000001,
          -101.00295799999999,
          -100.9239252,
          -100.989547,
          -99.241927,
          -100.97555600000001,
          -100.997969,
          -99.226938,
          -100.972466,
          -101.021422,
          -100.97848499999999,
          -101.008472,
          -100.999525,
          -99.222164,
          -100.996617,
          -100.977767,
          -100.960493,
          -101.01984499999999,
          -100.977058,
          -99.222497,
          -100.977412,
          -99.169539,
          -100.9371941,
          -101.001273,
          -99.209944,
          -100.99382800000001,
          -100.98580909999998,
          -100.997475,
          -101.01803199999999,
          -100.910926,
          -100.999246,
          -101.0173023,
          -99.16663170000001,
          -99.1323571,
          -99.225211,
          -100.9927118,
          -99.1625655,
          -100.97449399999999,
          -100.97487,
          -99.216413,
          -101.0195459,
          -100.944518,
          -101.0286,
          -100.97426899999999,
          -100.991564,
          -99.239513,
          -100.979033,
          -99.2315438,
          -99.2198896,
          -101.001273,
          -100.9906163,
          -100.973486,
          -100.987219,
          -100.98268,
          -99.234332,
          -100.93131070000001,
          -101.002936,
          -99.15942199999999
         ],
         "marker": {
          "color": "rgb(255, 0, 0)",
          "opacity": 0.4,
          "size": 6
         },
         "mode": "markers",
         "type": "scattermapbox",
         "uid": "8c511cf4-a2a5-11e8-8b0a-141877b23920"
        }
       ],
       "layout": {
        "autosize": true,
        "hovermode": "closest",
        "mapbox": {
         "accesstoken": "pk.eyJ1IjoibmF2ZWVuOTIiLCJhIjoiY2pqbWlybTc2MTlmdjNwcGJ2NGt1dDFoOSJ9.z5Jt4XxKvu5voCJZBAenjQ",
         "bearing": 0,
         "center": {
          "lat": 23,
          "lon": -102
         },
         "pitch": 2,
         "style": "dark",
         "zoom": 4.5
        },
        "showlegend": false,
        "title": "Restaurants Locations"
       }
      },
      "text/html": [
       "<div id=\"451810f5-c0a7-482a-b7a9-cd15cb8fdeba\" style=\"height: 525px; width: 100%;\" class=\"plotly-graph-div\"></div><script type=\"text/javascript\">require([\"plotly\"], function(Plotly) { window.PLOTLYENV=window.PLOTLYENV || {};window.PLOTLYENV.BASE_URL=\"https://plot.ly\";Plotly.newPlot(\"451810f5-c0a7-482a-b7a9-cd15cb8fdeba\", [{\"lat\": [18.915421, 22.149708800000003, 23.7529035, 22.135617, 23.754356899999998, 23.760268300000003, 22.151448000000002, 22.152918, 22.140129, 22.14958, 22.181017, 22.141420999999998, 22.1430781, 22.1378633, 22.1513782, 22.14161, 22.150642899999998, 18.948657, 22.136872, 18.917441, 22.159357, 22.151189000000002, 22.140626, 22.178931, 22.174887, 22.14955, 22.147879999999997, 22.145992, 22.156376, 18.936683, 22.15106, 23.7588052, 22.141282, 22.1412384, 22.145108, 18.941859, 22.156724, 22.145007999999997, 18.870565, 22.16835, 22.140517000000003, 22.156882999999997, 22.148854, 22.149689000000002, 18.859803, 22.154687, 22.155651000000002, 22.164842, 22.1489337, 22.151189000000002, 18.933537, 22.150980999999998, 18.910610000000002, 22.1312917, 22.148665, 18.869347, 22.150921, 22.1544736, 22.141848, 22.145813, 22.126375, 22.142017000000003, 22.1480965, 23.7521965, 23.7292162, 18.932725, 22.141647100000004, 23.752707100000002, 22.147145000000002, 22.145893, 18.923429000000002, 22.153323999999998, 22.185756, 22.135011, 22.147175, 22.139573000000002, 18.928798, 22.153703, 18.9101777, 18.876011300000002, 22.165587, 22.1477379, 22.152480999999998, 22.146658, 22.150802, 18.922290399999998, 22.141219800000002, 22.149192000000003, 18.875010999999997], \"lon\": [-99.184871, -100.97609279999999, -99.165076, -100.969709, -99.171288, -99.16586459999999, -100.915099, -100.915164, -100.944872, -100.999557, -100.973614, -101.01395500000001, -100.9354788, -100.9383273, -100.97463370000001, -100.97314200000001, -100.9870148, -99.235361, -100.9345736, -99.165945, -100.973411, -100.98179, -100.915657, -101.012861, -100.970825, -100.97797, -100.98947199999999, -100.955118, -100.998355, -99.247366, -100.977659, -99.16512970000001, -101.00295799999999, -100.9239252, -100.989547, -99.241927, -100.97555600000001, -100.997969, -99.226938, -100.972466, -101.021422, -100.97848499999999, -101.008472, -100.999525, -99.222164, -100.996617, -100.977767, -100.960493, -101.01984499999999, -100.977058, -99.222497, -100.977412, -99.169539, -100.9371941, -101.001273, -99.209944, -100.99382800000001, -100.98580909999998, -100.997475, -101.01803199999999, -100.910926, -100.999246, -101.0173023, -99.16663170000001, -99.1323571, -99.225211, -100.9927118, -99.1625655, -100.97449399999999, -100.97487, -99.216413, -101.0195459, -100.944518, -101.0286, -100.97426899999999, -100.991564, -99.239513, -100.979033, -99.2315438, -99.2198896, -101.001273, -100.9906163, -100.973486, -100.987219, -100.98268, -99.234332, -100.93131070000001, -101.002936, -99.15942199999999], \"marker\": {\"color\": \"rgb(255, 0, 0)\", \"opacity\": 0.4, \"size\": 6}, \"mode\": \"markers\", \"type\": \"scattermapbox\", \"uid\": \"8c5f02a4-a2a5-11e8-b8e9-141877b23920\"}], {\"autosize\": true, \"hovermode\": \"closest\", \"mapbox\": {\"accesstoken\": \"pk.eyJ1IjoibmF2ZWVuOTIiLCJhIjoiY2pqbWlybTc2MTlmdjNwcGJ2NGt1dDFoOSJ9.z5Jt4XxKvu5voCJZBAenjQ\", \"bearing\": 0, \"center\": {\"lat\": 23, \"lon\": -102}, \"pitch\": 2, \"style\": \"dark\", \"zoom\": 4.5}, \"showlegend\": false, \"title\": \"Restaurants Locations\"}, {\"showLink\": true, \"linkText\": \"Export to plot.ly\"})});</script>"
      ],
      "text/vnd.plotly.v1+html": [
       "<div id=\"451810f5-c0a7-482a-b7a9-cd15cb8fdeba\" style=\"height: 525px; width: 100%;\" class=\"plotly-graph-div\"></div><script type=\"text/javascript\">require([\"plotly\"], function(Plotly) { window.PLOTLYENV=window.PLOTLYENV || {};window.PLOTLYENV.BASE_URL=\"https://plot.ly\";Plotly.newPlot(\"451810f5-c0a7-482a-b7a9-cd15cb8fdeba\", [{\"lat\": [18.915421, 22.149708800000003, 23.7529035, 22.135617, 23.754356899999998, 23.760268300000003, 22.151448000000002, 22.152918, 22.140129, 22.14958, 22.181017, 22.141420999999998, 22.1430781, 22.1378633, 22.1513782, 22.14161, 22.150642899999998, 18.948657, 22.136872, 18.917441, 22.159357, 22.151189000000002, 22.140626, 22.178931, 22.174887, 22.14955, 22.147879999999997, 22.145992, 22.156376, 18.936683, 22.15106, 23.7588052, 22.141282, 22.1412384, 22.145108, 18.941859, 22.156724, 22.145007999999997, 18.870565, 22.16835, 22.140517000000003, 22.156882999999997, 22.148854, 22.149689000000002, 18.859803, 22.154687, 22.155651000000002, 22.164842, 22.1489337, 22.151189000000002, 18.933537, 22.150980999999998, 18.910610000000002, 22.1312917, 22.148665, 18.869347, 22.150921, 22.1544736, 22.141848, 22.145813, 22.126375, 22.142017000000003, 22.1480965, 23.7521965, 23.7292162, 18.932725, 22.141647100000004, 23.752707100000002, 22.147145000000002, 22.145893, 18.923429000000002, 22.153323999999998, 22.185756, 22.135011, 22.147175, 22.139573000000002, 18.928798, 22.153703, 18.9101777, 18.876011300000002, 22.165587, 22.1477379, 22.152480999999998, 22.146658, 22.150802, 18.922290399999998, 22.141219800000002, 22.149192000000003, 18.875010999999997], \"lon\": [-99.184871, -100.97609279999999, -99.165076, -100.969709, -99.171288, -99.16586459999999, -100.915099, -100.915164, -100.944872, -100.999557, -100.973614, -101.01395500000001, -100.9354788, -100.9383273, -100.97463370000001, -100.97314200000001, -100.9870148, -99.235361, -100.9345736, -99.165945, -100.973411, -100.98179, -100.915657, -101.012861, -100.970825, -100.97797, -100.98947199999999, -100.955118, -100.998355, -99.247366, -100.977659, -99.16512970000001, -101.00295799999999, -100.9239252, -100.989547, -99.241927, -100.97555600000001, -100.997969, -99.226938, -100.972466, -101.021422, -100.97848499999999, -101.008472, -100.999525, -99.222164, -100.996617, -100.977767, -100.960493, -101.01984499999999, -100.977058, -99.222497, -100.977412, -99.169539, -100.9371941, -101.001273, -99.209944, -100.99382800000001, -100.98580909999998, -100.997475, -101.01803199999999, -100.910926, -100.999246, -101.0173023, -99.16663170000001, -99.1323571, -99.225211, -100.9927118, -99.1625655, -100.97449399999999, -100.97487, -99.216413, -101.0195459, -100.944518, -101.0286, -100.97426899999999, -100.991564, -99.239513, -100.979033, -99.2315438, -99.2198896, -101.001273, -100.9906163, -100.973486, -100.987219, -100.98268, -99.234332, -100.93131070000001, -101.002936, -99.15942199999999], \"marker\": {\"color\": \"rgb(255, 0, 0)\", \"opacity\": 0.4, \"size\": 6}, \"mode\": \"markers\", \"type\": \"scattermapbox\", \"uid\": \"8c5f02a4-a2a5-11e8-b8e9-141877b23920\"}], {\"autosize\": true, \"hovermode\": \"closest\", \"mapbox\": {\"accesstoken\": \"pk.eyJ1IjoibmF2ZWVuOTIiLCJhIjoiY2pqbWlybTc2MTlmdjNwcGJ2NGt1dDFoOSJ9.z5Jt4XxKvu5voCJZBAenjQ\", \"bearing\": 0, \"center\": {\"lat\": 23, \"lon\": -102}, \"pitch\": 2, \"style\": \"dark\", \"zoom\": 4.5}, \"showlegend\": false, \"title\": \"Restaurants Locations\"}, {\"showLink\": true, \"linkText\": \"Export to plot.ly\"})});</script>"
      ]
     },
     "metadata": {},
     "output_type": "display_data"
    }
   ],
   "source": [
    "mcd=F8rep[F8rep.country =='Mexico']\n",
    "mcd_lat = mcd.latitude\n",
    "mcd_lon = mcd.longitude\n",
    "\n",
    "data = [\n",
    "    go.Scattermapbox(\n",
    "        lat=mcd_lat,\n",
    "        lon=mcd_lon,\n",
    "        mode='markers',\n",
    "        marker=dict(\n",
    "            size=6,\n",
    "            color='rgb(255, 0, 0)',\n",
    "            opacity=0.4\n",
    "        ))]\n",
    "layout = go.Layout(\n",
    "    title='Restaurants Locations',\n",
    "    autosize=True,\n",
    "    hovermode='closest',\n",
    "    showlegend=False,\n",
    "    mapbox=dict(\n",
    "        accesstoken=mapbox_access_token,\n",
    "        bearing=0,\n",
    "        center=dict(\n",
    "            lat=23,\n",
    "            lon=-102\n",
    "        ),\n",
    "        pitch=2,\n",
    "        zoom=4.5,\n",
    "        style='dark'\n",
    "    ),\n",
    ")\n",
    "\n",
    "fig = dict(data=data, layout=layout)\n",
    "iplot(fig, filename='restaurants')"
   ]
  },
  {
   "cell_type": "markdown",
   "metadata": {},
   "source": [
    "# Merging multiple files into one"
   ]
  },
  {
   "cell_type": "code",
   "execution_count": 62,
   "metadata": {},
   "outputs": [],
   "source": [
    "#merging ratingfile(T) with userprofile(F7)\n",
    "A=pd.merge(T,F7charLE)"
   ]
  },
  {
   "cell_type": "code",
   "execution_count": 63,
   "metadata": {},
   "outputs": [],
   "source": [
    "#merging A with userpayments(F6) \n",
    "B=pd.merge(A,F6dum1,how='left',on=['userID'])"
   ]
  },
  {
   "cell_type": "code",
   "execution_count": 64,
   "metadata": {},
   "outputs": [],
   "source": [
    "#merging B with usercuisine(F5)\n",
    "C=pd.merge(B,F5dum1,how='left',on=['userID'])"
   ]
  },
  {
   "cell_type": "code",
   "execution_count": 65,
   "metadata": {},
   "outputs": [],
   "source": [
    "#merging C with geoplaces2(F8)\n",
    "D=pd.merge(C,F8charLE,how='left',on=['placeID'])"
   ]
  },
  {
   "cell_type": "code",
   "execution_count": 66,
   "metadata": {},
   "outputs": [],
   "source": [
    "#merging D with chefmozparking(F4)\n",
    "E=pd.merge(D,F4dum1,how='left',on=['placeID'])"
   ]
  },
  {
   "cell_type": "code",
   "execution_count": 67,
   "metadata": {},
   "outputs": [],
   "source": [
    "#merging E with chefmozcuisine(F2)\n",
    "F=pd.merge(E,F2dum1,how='left',on=['placeID'])"
   ]
  },
  {
   "cell_type": "code",
   "execution_count": 68,
   "metadata": {},
   "outputs": [],
   "source": [
    "#merging F with chefmozaccepts(F1)\n",
    "G=pd.merge(F,F1dum1,how='left',on=['placeID'])"
   ]
  },
  {
   "cell_type": "code",
   "execution_count": 69,
   "metadata": {},
   "outputs": [
    {
     "data": {
      "text/plain": [
       "1161"
      ]
     },
     "execution_count": 69,
     "metadata": {},
     "output_type": "execute_result"
    }
   ],
   "source": [
    "len(G)"
   ]
  },
  {
   "cell_type": "markdown",
   "metadata": {},
   "source": [
    "# Final Data"
   ]
  },
  {
   "cell_type": "code",
   "execution_count": 70,
   "metadata": {
    "scrolled": true
   },
   "outputs": [
    {
     "data": {
      "text/html": [
       "<div>\n",
       "<style scoped>\n",
       "    .dataframe tbody tr th:only-of-type {\n",
       "        vertical-align: middle;\n",
       "    }\n",
       "\n",
       "    .dataframe tbody tr th {\n",
       "        vertical-align: top;\n",
       "    }\n",
       "\n",
       "    .dataframe thead th {\n",
       "        text-align: right;\n",
       "    }\n",
       "</style>\n",
       "<table border=\"1\" class=\"dataframe\">\n",
       "  <thead>\n",
       "    <tr style=\"text-align: right;\">\n",
       "      <th></th>\n",
       "      <th>userID</th>\n",
       "      <th>placeID</th>\n",
       "      <th>rating</th>\n",
       "      <th>food_rating</th>\n",
       "      <th>service_rating</th>\n",
       "      <th>smoker</th>\n",
       "      <th>drink_level</th>\n",
       "      <th>dress_preference</th>\n",
       "      <th>ambience</th>\n",
       "      <th>transport</th>\n",
       "      <th>...</th>\n",
       "      <th>Rpayment_Diners_Club</th>\n",
       "      <th>Rpayment_Discover</th>\n",
       "      <th>Rpayment_Japan_Credit_Bureau</th>\n",
       "      <th>Rpayment_MasterCard-Eurocard</th>\n",
       "      <th>Rpayment_VISA</th>\n",
       "      <th>Rpayment_Visa</th>\n",
       "      <th>Rpayment_bank_debit_cards</th>\n",
       "      <th>Rpayment_cash</th>\n",
       "      <th>Rpayment_checks</th>\n",
       "      <th>Rpayment_gift_certificates</th>\n",
       "    </tr>\n",
       "  </thead>\n",
       "  <tbody>\n",
       "    <tr>\n",
       "      <th>0</th>\n",
       "      <td>U1077</td>\n",
       "      <td>135085</td>\n",
       "      <td>2</td>\n",
       "      <td>2</td>\n",
       "      <td>2</td>\n",
       "      <td>4</td>\n",
       "      <td>10</td>\n",
       "      <td>3</td>\n",
       "      <td>5</td>\n",
       "      <td>9</td>\n",
       "      <td>...</td>\n",
       "      <td>0.0</td>\n",
       "      <td>0.0</td>\n",
       "      <td>0.0</td>\n",
       "      <td>0.0</td>\n",
       "      <td>0.0</td>\n",
       "      <td>0.0</td>\n",
       "      <td>0.0</td>\n",
       "      <td>1.0</td>\n",
       "      <td>0.0</td>\n",
       "      <td>0.0</td>\n",
       "    </tr>\n",
       "    <tr>\n",
       "      <th>1</th>\n",
       "      <td>U1077</td>\n",
       "      <td>135038</td>\n",
       "      <td>2</td>\n",
       "      <td>2</td>\n",
       "      <td>1</td>\n",
       "      <td>4</td>\n",
       "      <td>10</td>\n",
       "      <td>3</td>\n",
       "      <td>5</td>\n",
       "      <td>9</td>\n",
       "      <td>...</td>\n",
       "      <td>0.0</td>\n",
       "      <td>0.0</td>\n",
       "      <td>0.0</td>\n",
       "      <td>0.0</td>\n",
       "      <td>0.0</td>\n",
       "      <td>0.0</td>\n",
       "      <td>0.0</td>\n",
       "      <td>1.0</td>\n",
       "      <td>0.0</td>\n",
       "      <td>0.0</td>\n",
       "    </tr>\n",
       "    <tr>\n",
       "      <th>2</th>\n",
       "      <td>U1077</td>\n",
       "      <td>132825</td>\n",
       "      <td>2</td>\n",
       "      <td>2</td>\n",
       "      <td>2</td>\n",
       "      <td>4</td>\n",
       "      <td>10</td>\n",
       "      <td>3</td>\n",
       "      <td>5</td>\n",
       "      <td>9</td>\n",
       "      <td>...</td>\n",
       "      <td>0.0</td>\n",
       "      <td>0.0</td>\n",
       "      <td>0.0</td>\n",
       "      <td>0.0</td>\n",
       "      <td>0.0</td>\n",
       "      <td>0.0</td>\n",
       "      <td>0.0</td>\n",
       "      <td>1.0</td>\n",
       "      <td>0.0</td>\n",
       "      <td>0.0</td>\n",
       "    </tr>\n",
       "    <tr>\n",
       "      <th>3</th>\n",
       "      <td>U1077</td>\n",
       "      <td>135060</td>\n",
       "      <td>1</td>\n",
       "      <td>2</td>\n",
       "      <td>2</td>\n",
       "      <td>4</td>\n",
       "      <td>10</td>\n",
       "      <td>3</td>\n",
       "      <td>5</td>\n",
       "      <td>9</td>\n",
       "      <td>...</td>\n",
       "      <td>0.0</td>\n",
       "      <td>0.0</td>\n",
       "      <td>0.0</td>\n",
       "      <td>0.0</td>\n",
       "      <td>0.0</td>\n",
       "      <td>0.0</td>\n",
       "      <td>0.0</td>\n",
       "      <td>1.0</td>\n",
       "      <td>0.0</td>\n",
       "      <td>0.0</td>\n",
       "    </tr>\n",
       "    <tr>\n",
       "      <th>4</th>\n",
       "      <td>U1077</td>\n",
       "      <td>135027</td>\n",
       "      <td>0</td>\n",
       "      <td>1</td>\n",
       "      <td>1</td>\n",
       "      <td>4</td>\n",
       "      <td>10</td>\n",
       "      <td>3</td>\n",
       "      <td>5</td>\n",
       "      <td>9</td>\n",
       "      <td>...</td>\n",
       "      <td>0.0</td>\n",
       "      <td>0.0</td>\n",
       "      <td>0.0</td>\n",
       "      <td>1.0</td>\n",
       "      <td>1.0</td>\n",
       "      <td>0.0</td>\n",
       "      <td>0.0</td>\n",
       "      <td>1.0</td>\n",
       "      <td>0.0</td>\n",
       "      <td>0.0</td>\n",
       "    </tr>\n",
       "  </tbody>\n",
       "</table>\n",
       "<p>5 rows × 226 columns</p>\n",
       "</div>"
      ],
      "text/plain": [
       "  userID  placeID  rating  food_rating  service_rating  smoker  drink_level  \\\n",
       "0  U1077   135085       2            2               2       4           10   \n",
       "1  U1077   135038       2            2               1       4           10   \n",
       "2  U1077   132825       2            2               2       4           10   \n",
       "3  U1077   135060       1            2               2       4           10   \n",
       "4  U1077   135027       0            1               1       4           10   \n",
       "\n",
       "   dress_preference  ambience  transport             ...              \\\n",
       "0                 3         5          9             ...               \n",
       "1                 3         5          9             ...               \n",
       "2                 3         5          9             ...               \n",
       "3                 3         5          9             ...               \n",
       "4                 3         5          9             ...               \n",
       "\n",
       "   Rpayment_Diners_Club  Rpayment_Discover  Rpayment_Japan_Credit_Bureau  \\\n",
       "0                   0.0                0.0                           0.0   \n",
       "1                   0.0                0.0                           0.0   \n",
       "2                   0.0                0.0                           0.0   \n",
       "3                   0.0                0.0                           0.0   \n",
       "4                   0.0                0.0                           0.0   \n",
       "\n",
       "   Rpayment_MasterCard-Eurocard  Rpayment_VISA  Rpayment_Visa  \\\n",
       "0                           0.0            0.0            0.0   \n",
       "1                           0.0            0.0            0.0   \n",
       "2                           0.0            0.0            0.0   \n",
       "3                           0.0            0.0            0.0   \n",
       "4                           1.0            1.0            0.0   \n",
       "\n",
       "   Rpayment_bank_debit_cards  Rpayment_cash  Rpayment_checks  \\\n",
       "0                        0.0            1.0              0.0   \n",
       "1                        0.0            1.0              0.0   \n",
       "2                        0.0            1.0              0.0   \n",
       "3                        0.0            1.0              0.0   \n",
       "4                        0.0            1.0              0.0   \n",
       "\n",
       "   Rpayment_gift_certificates  \n",
       "0                         0.0  \n",
       "1                         0.0  \n",
       "2                         0.0  \n",
       "3                         0.0  \n",
       "4                         0.0  \n",
       "\n",
       "[5 rows x 226 columns]"
      ]
     },
     "execution_count": 70,
     "metadata": {},
     "output_type": "execute_result"
    }
   ],
   "source": [
    "G.head()"
   ]
  },
  {
   "cell_type": "code",
   "execution_count": 71,
   "metadata": {},
   "outputs": [
    {
     "name": "stdout",
     "output_type": "stream",
     "text": [
      "<class 'pandas.core.frame.DataFrame'>\n",
      "Int64Index: 1161 entries, 0 to 1160\n",
      "Columns: 226 entries, userID to Rpayment_gift_certificates\n",
      "dtypes: float64(81), int64(34), object(1), uint8(110)\n",
      "memory usage: 1.2+ MB\n"
     ]
    }
   ],
   "source": [
    "G.info()"
   ]
  },
  {
   "cell_type": "code",
   "execution_count": 72,
   "metadata": {},
   "outputs": [
    {
     "name": "stdout",
     "output_type": "stream",
     "text": [
      "No of columns 226\n",
      "No of rows 1161\n"
     ]
    }
   ],
   "source": [
    "print('No of columns',G.shape[1])\n",
    "print('No of rows',G.shape[0])"
   ]
  },
  {
   "cell_type": "code",
   "execution_count": 73,
   "metadata": {},
   "outputs": [
    {
     "data": {
      "text/plain": [
       "True"
      ]
     },
     "execution_count": 73,
     "metadata": {},
     "output_type": "execute_result"
    }
   ],
   "source": [
    "#check for Null values\n",
    "G.isnull().values.any()"
   ]
  },
  {
   "cell_type": "code",
   "execution_count": 74,
   "metadata": {
    "scrolled": true
   },
   "outputs": [
    {
     "data": {
      "text/html": [
       "<div>\n",
       "<style scoped>\n",
       "    .dataframe tbody tr th:only-of-type {\n",
       "        vertical-align: middle;\n",
       "    }\n",
       "\n",
       "    .dataframe tbody tr th {\n",
       "        vertical-align: top;\n",
       "    }\n",
       "\n",
       "    .dataframe thead th {\n",
       "        text-align: right;\n",
       "    }\n",
       "</style>\n",
       "<table border=\"1\" class=\"dataframe\">\n",
       "  <thead>\n",
       "    <tr style=\"text-align: right;\">\n",
       "      <th></th>\n",
       "      <th>percent_missing</th>\n",
       "    </tr>\n",
       "  </thead>\n",
       "  <tbody>\n",
       "    <tr>\n",
       "      <th>userID</th>\n",
       "      <td>0.000000</td>\n",
       "    </tr>\n",
       "    <tr>\n",
       "      <th>placeID</th>\n",
       "      <td>0.000000</td>\n",
       "    </tr>\n",
       "    <tr>\n",
       "      <th>rating</th>\n",
       "      <td>0.000000</td>\n",
       "    </tr>\n",
       "    <tr>\n",
       "      <th>food_rating</th>\n",
       "      <td>0.000000</td>\n",
       "    </tr>\n",
       "    <tr>\n",
       "      <th>service_rating</th>\n",
       "      <td>0.000000</td>\n",
       "    </tr>\n",
       "    <tr>\n",
       "      <th>smoker</th>\n",
       "      <td>0.000000</td>\n",
       "    </tr>\n",
       "    <tr>\n",
       "      <th>drink_level</th>\n",
       "      <td>0.000000</td>\n",
       "    </tr>\n",
       "    <tr>\n",
       "      <th>dress_preference</th>\n",
       "      <td>0.000000</td>\n",
       "    </tr>\n",
       "    <tr>\n",
       "      <th>ambience</th>\n",
       "      <td>0.000000</td>\n",
       "    </tr>\n",
       "    <tr>\n",
       "      <th>transport</th>\n",
       "      <td>0.000000</td>\n",
       "    </tr>\n",
       "    <tr>\n",
       "      <th>marital_status</th>\n",
       "      <td>0.000000</td>\n",
       "    </tr>\n",
       "    <tr>\n",
       "      <th>hijos</th>\n",
       "      <td>0.000000</td>\n",
       "    </tr>\n",
       "    <tr>\n",
       "      <th>interest</th>\n",
       "      <td>0.000000</td>\n",
       "    </tr>\n",
       "    <tr>\n",
       "      <th>personality</th>\n",
       "      <td>0.000000</td>\n",
       "    </tr>\n",
       "    <tr>\n",
       "      <th>religion</th>\n",
       "      <td>0.000000</td>\n",
       "    </tr>\n",
       "    <tr>\n",
       "      <th>activity</th>\n",
       "      <td>0.000000</td>\n",
       "    </tr>\n",
       "    <tr>\n",
       "      <th>color</th>\n",
       "      <td>0.000000</td>\n",
       "    </tr>\n",
       "    <tr>\n",
       "      <th>budget</th>\n",
       "      <td>0.000000</td>\n",
       "    </tr>\n",
       "    <tr>\n",
       "      <th>latitude_x</th>\n",
       "      <td>0.000000</td>\n",
       "    </tr>\n",
       "    <tr>\n",
       "      <th>longitude_x</th>\n",
       "      <td>0.000000</td>\n",
       "    </tr>\n",
       "    <tr>\n",
       "      <th>birth_year</th>\n",
       "      <td>0.000000</td>\n",
       "    </tr>\n",
       "    <tr>\n",
       "      <th>weight</th>\n",
       "      <td>0.000000</td>\n",
       "    </tr>\n",
       "    <tr>\n",
       "      <th>height</th>\n",
       "      <td>0.000000</td>\n",
       "    </tr>\n",
       "    <tr>\n",
       "      <th>Upayment_American_Express</th>\n",
       "      <td>4.651163</td>\n",
       "    </tr>\n",
       "    <tr>\n",
       "      <th>Upayment_MasterCard-Eurocard</th>\n",
       "      <td>4.651163</td>\n",
       "    </tr>\n",
       "    <tr>\n",
       "      <th>Upayment_VISA</th>\n",
       "      <td>4.651163</td>\n",
       "    </tr>\n",
       "    <tr>\n",
       "      <th>Upayment_bank_debit_cards</th>\n",
       "      <td>4.651163</td>\n",
       "    </tr>\n",
       "    <tr>\n",
       "      <th>Upayment_cash</th>\n",
       "      <td>4.651163</td>\n",
       "    </tr>\n",
       "    <tr>\n",
       "      <th>Rcuisine_Afghan_x</th>\n",
       "      <td>0.000000</td>\n",
       "    </tr>\n",
       "    <tr>\n",
       "      <th>Rcuisine_African_x</th>\n",
       "      <td>0.000000</td>\n",
       "    </tr>\n",
       "    <tr>\n",
       "      <th>...</th>\n",
       "      <td>...</td>\n",
       "    </tr>\n",
       "    <tr>\n",
       "      <th>Rcuisine_Mexican_y</th>\n",
       "      <td>24.806202</td>\n",
       "    </tr>\n",
       "    <tr>\n",
       "      <th>Rcuisine_Mongolian_y</th>\n",
       "      <td>24.806202</td>\n",
       "    </tr>\n",
       "    <tr>\n",
       "      <th>Rcuisine_Organic-Healthy_y</th>\n",
       "      <td>24.806202</td>\n",
       "    </tr>\n",
       "    <tr>\n",
       "      <th>Rcuisine_Persian_y</th>\n",
       "      <td>24.806202</td>\n",
       "    </tr>\n",
       "    <tr>\n",
       "      <th>Rcuisine_Pizzeria_y</th>\n",
       "      <td>24.806202</td>\n",
       "    </tr>\n",
       "    <tr>\n",
       "      <th>Rcuisine_Polish_y</th>\n",
       "      <td>24.806202</td>\n",
       "    </tr>\n",
       "    <tr>\n",
       "      <th>Rcuisine_Regional_y</th>\n",
       "      <td>24.806202</td>\n",
       "    </tr>\n",
       "    <tr>\n",
       "      <th>Rcuisine_Seafood_y</th>\n",
       "      <td>24.806202</td>\n",
       "    </tr>\n",
       "    <tr>\n",
       "      <th>Rcuisine_Soup_y</th>\n",
       "      <td>24.806202</td>\n",
       "    </tr>\n",
       "    <tr>\n",
       "      <th>Rcuisine_Southern_y</th>\n",
       "      <td>24.806202</td>\n",
       "    </tr>\n",
       "    <tr>\n",
       "      <th>Rcuisine_Southwestern_y</th>\n",
       "      <td>24.806202</td>\n",
       "    </tr>\n",
       "    <tr>\n",
       "      <th>Rcuisine_Spanish_y</th>\n",
       "      <td>24.806202</td>\n",
       "    </tr>\n",
       "    <tr>\n",
       "      <th>Rcuisine_Steaks_y</th>\n",
       "      <td>24.806202</td>\n",
       "    </tr>\n",
       "    <tr>\n",
       "      <th>Rcuisine_Sushi_y</th>\n",
       "      <td>24.806202</td>\n",
       "    </tr>\n",
       "    <tr>\n",
       "      <th>Rcuisine_Thai_y</th>\n",
       "      <td>24.806202</td>\n",
       "    </tr>\n",
       "    <tr>\n",
       "      <th>Rcuisine_Turkish_y</th>\n",
       "      <td>24.806202</td>\n",
       "    </tr>\n",
       "    <tr>\n",
       "      <th>Rcuisine_Vegetarian_y</th>\n",
       "      <td>24.806202</td>\n",
       "    </tr>\n",
       "    <tr>\n",
       "      <th>Rcuisine_Vietnamese_y</th>\n",
       "      <td>24.806202</td>\n",
       "    </tr>\n",
       "    <tr>\n",
       "      <th>Rpayment_American_Express</th>\n",
       "      <td>8.613264</td>\n",
       "    </tr>\n",
       "    <tr>\n",
       "      <th>Rpayment_Carte_Blanche</th>\n",
       "      <td>8.613264</td>\n",
       "    </tr>\n",
       "    <tr>\n",
       "      <th>Rpayment_Diners_Club</th>\n",
       "      <td>8.613264</td>\n",
       "    </tr>\n",
       "    <tr>\n",
       "      <th>Rpayment_Discover</th>\n",
       "      <td>8.613264</td>\n",
       "    </tr>\n",
       "    <tr>\n",
       "      <th>Rpayment_Japan_Credit_Bureau</th>\n",
       "      <td>8.613264</td>\n",
       "    </tr>\n",
       "    <tr>\n",
       "      <th>Rpayment_MasterCard-Eurocard</th>\n",
       "      <td>8.613264</td>\n",
       "    </tr>\n",
       "    <tr>\n",
       "      <th>Rpayment_VISA</th>\n",
       "      <td>8.613264</td>\n",
       "    </tr>\n",
       "    <tr>\n",
       "      <th>Rpayment_Visa</th>\n",
       "      <td>8.613264</td>\n",
       "    </tr>\n",
       "    <tr>\n",
       "      <th>Rpayment_bank_debit_cards</th>\n",
       "      <td>8.613264</td>\n",
       "    </tr>\n",
       "    <tr>\n",
       "      <th>Rpayment_cash</th>\n",
       "      <td>8.613264</td>\n",
       "    </tr>\n",
       "    <tr>\n",
       "      <th>Rpayment_checks</th>\n",
       "      <td>8.613264</td>\n",
       "    </tr>\n",
       "    <tr>\n",
       "      <th>Rpayment_gift_certificates</th>\n",
       "      <td>8.613264</td>\n",
       "    </tr>\n",
       "  </tbody>\n",
       "</table>\n",
       "<p>226 rows × 1 columns</p>\n",
       "</div>"
      ],
      "text/plain": [
       "                              percent_missing\n",
       "userID                               0.000000\n",
       "placeID                              0.000000\n",
       "rating                               0.000000\n",
       "food_rating                          0.000000\n",
       "service_rating                       0.000000\n",
       "smoker                               0.000000\n",
       "drink_level                          0.000000\n",
       "dress_preference                     0.000000\n",
       "ambience                             0.000000\n",
       "transport                            0.000000\n",
       "marital_status                       0.000000\n",
       "hijos                                0.000000\n",
       "interest                             0.000000\n",
       "personality                          0.000000\n",
       "religion                             0.000000\n",
       "activity                             0.000000\n",
       "color                                0.000000\n",
       "budget                               0.000000\n",
       "latitude_x                           0.000000\n",
       "longitude_x                          0.000000\n",
       "birth_year                           0.000000\n",
       "weight                               0.000000\n",
       "height                               0.000000\n",
       "Upayment_American_Express            4.651163\n",
       "Upayment_MasterCard-Eurocard         4.651163\n",
       "Upayment_VISA                        4.651163\n",
       "Upayment_bank_debit_cards            4.651163\n",
       "Upayment_cash                        4.651163\n",
       "Rcuisine_Afghan_x                    0.000000\n",
       "Rcuisine_African_x                   0.000000\n",
       "...                                       ...\n",
       "Rcuisine_Mexican_y                  24.806202\n",
       "Rcuisine_Mongolian_y                24.806202\n",
       "Rcuisine_Organic-Healthy_y          24.806202\n",
       "Rcuisine_Persian_y                  24.806202\n",
       "Rcuisine_Pizzeria_y                 24.806202\n",
       "Rcuisine_Polish_y                   24.806202\n",
       "Rcuisine_Regional_y                 24.806202\n",
       "Rcuisine_Seafood_y                  24.806202\n",
       "Rcuisine_Soup_y                     24.806202\n",
       "Rcuisine_Southern_y                 24.806202\n",
       "Rcuisine_Southwestern_y             24.806202\n",
       "Rcuisine_Spanish_y                  24.806202\n",
       "Rcuisine_Steaks_y                   24.806202\n",
       "Rcuisine_Sushi_y                    24.806202\n",
       "Rcuisine_Thai_y                     24.806202\n",
       "Rcuisine_Turkish_y                  24.806202\n",
       "Rcuisine_Vegetarian_y               24.806202\n",
       "Rcuisine_Vietnamese_y               24.806202\n",
       "Rpayment_American_Express            8.613264\n",
       "Rpayment_Carte_Blanche               8.613264\n",
       "Rpayment_Diners_Club                 8.613264\n",
       "Rpayment_Discover                    8.613264\n",
       "Rpayment_Japan_Credit_Bureau         8.613264\n",
       "Rpayment_MasterCard-Eurocard         8.613264\n",
       "Rpayment_VISA                        8.613264\n",
       "Rpayment_Visa                        8.613264\n",
       "Rpayment_bank_debit_cards            8.613264\n",
       "Rpayment_cash                        8.613264\n",
       "Rpayment_checks                      8.613264\n",
       "Rpayment_gift_certificates           8.613264\n",
       "\n",
       "[226 rows x 1 columns]"
      ]
     },
     "execution_count": 74,
     "metadata": {},
     "output_type": "execute_result"
    }
   ],
   "source": [
    "#finding percentage of null values across columns\n",
    "columns = G.columns\n",
    "percent_missing = G.isnull().sum() * 100 / len(G)\n",
    "missing_value_G = pd.DataFrame({'percent_missing': percent_missing})\n",
    "missing_value_G"
   ]
  },
  {
   "cell_type": "code",
   "execution_count": 75,
   "metadata": {},
   "outputs": [
    {
     "data": {
      "text/plain": [
       "False"
      ]
     },
     "execution_count": 75,
     "metadata": {},
     "output_type": "execute_result"
    }
   ],
   "source": [
    "#replacing missing values with zero and check.\n",
    "G=G.fillna(0)\n",
    "G.isnull().values.any()"
   ]
  },
  {
   "cell_type": "code",
   "execution_count": 76,
   "metadata": {},
   "outputs": [],
   "source": [
    "#for modelling purpose we are label encoding userID.\n",
    "G['userID']=encoder.fit_transform(G['userID'])"
   ]
  },
  {
   "cell_type": "markdown",
   "metadata": {},
   "source": [
    "# Model Building"
   ]
  },
  {
   "cell_type": "code",
   "execution_count": 77,
   "metadata": {},
   "outputs": [
    {
     "name": "stderr",
     "output_type": "stream",
     "text": [
      "C:\\anaconda\\lib\\site-packages\\sklearn\\cross_validation.py:41: DeprecationWarning:\n",
      "\n",
      "This module was deprecated in version 0.18 in favor of the model_selection module into which all the refactored classes and functions are moved. Also note that the interface of the new CV iterators are different from that of this module. This module will be removed in 0.20.\n",
      "\n"
     ]
    }
   ],
   "source": [
    "#packages for modelling\n",
    "from sklearn.linear_model import LogisticRegression\n",
    "from sklearn.cross_validation import train_test_split\n",
    "from sklearn.metrics import confusion_matrix,classification_report\n",
    "from sklearn import tree\n",
    "from sklearn.ensemble import RandomForestClassifier\n",
    "from sklearn.datasets import make_classification\n",
    "from xgboost import XGBClassifier\n",
    "from sklearn.metrics import accuracy_score\n",
    "from sklearn.metrics import roc_curve,auc\n",
    "from sklearn.metrics import roc_auc_score\n",
    "from sklearn.metrics import cohen_kappa_score"
   ]
  },
  {
   "cell_type": "code",
   "execution_count": 78,
   "metadata": {},
   "outputs": [],
   "source": [
    "# splitting train and test data as 75/25.\n",
    "X=G.drop(['placeID','rating','food_rating','service_rating'],axis=1)\n",
    "y=G['rating']\n",
    "X_train,X_test,y_train,y_test = train_test_split(X,y,test_size=0.25)"
   ]
  },
  {
   "cell_type": "markdown",
   "metadata": {},
   "source": [
    "##Logistic Regression"
   ]
  },
  {
   "cell_type": "code",
   "execution_count": 79,
   "metadata": {},
   "outputs": [
    {
     "data": {
      "text/plain": [
       "LogisticRegression(C=1.0, class_weight=None, dual=False, fit_intercept=True,\n",
       "          intercept_scaling=1, max_iter=100, multi_class='ovr', n_jobs=1,\n",
       "          penalty='l2', random_state=None, solver='liblinear', tol=0.0001,\n",
       "          verbose=0, warm_start=False)"
      ]
     },
     "execution_count": 79,
     "metadata": {},
     "output_type": "execute_result"
    }
   ],
   "source": [
    "#model building.\n",
    "logmodel = LogisticRegression()\n",
    "logmodel.fit(X_train,y_train)"
   ]
  },
  {
   "cell_type": "code",
   "execution_count": 80,
   "metadata": {},
   "outputs": [],
   "source": [
    "#predicting on test data.\n",
    "predictions1 =  logmodel.predict(X_test)"
   ]
  },
  {
   "cell_type": "code",
   "execution_count": 81,
   "metadata": {},
   "outputs": [
    {
     "name": "stdout",
     "output_type": "stream",
     "text": [
      "confusion matrix\n",
      "[[16 24 16]\n",
      " [ 7 57 45]\n",
      " [ 3 46 77]]\n",
      "Accuracy_score\n",
      "0.5154639175257731\n"
     ]
    }
   ],
   "source": [
    "print(\"confusion matrix\")\n",
    "print(confusion_matrix(y_test,predictions1))\n",
    "print(\"Accuracy_score\")\n",
    "print(accuracy_score(y_test, predictions1))"
   ]
  },
  {
   "cell_type": "code",
   "execution_count": 82,
   "metadata": {},
   "outputs": [
    {
     "name": "stdout",
     "output_type": "stream",
     "text": [
      "classification_report\n",
      "             precision    recall  f1-score   support\n",
      "\n",
      "          0       0.62      0.29      0.39        56\n",
      "          1       0.45      0.52      0.48       109\n",
      "          2       0.56      0.61      0.58       126\n",
      "\n",
      "avg / total       0.53      0.52      0.51       291\n",
      "\n"
     ]
    }
   ],
   "source": [
    "print(\"classification_report\")\n",
    "print(classification_report(y_test,predictions1))"
   ]
  },
  {
   "cell_type": "code",
   "execution_count": 83,
   "metadata": {},
   "outputs": [
    {
     "data": {
      "text/plain": [
       "0.21085125206754618"
      ]
     },
     "execution_count": 83,
     "metadata": {},
     "output_type": "execute_result"
    }
   ],
   "source": [
    "#kappa score.\n",
    "cohen_kappa_score(y_test, predictions1)"
   ]
  },
  {
   "cell_type": "markdown",
   "metadata": {},
   "source": [
    "##Decision Tree"
   ]
  },
  {
   "cell_type": "code",
   "execution_count": 85,
   "metadata": {},
   "outputs": [],
   "source": [
    "#model building.\n",
    "clf = tree.DecisionTreeClassifier()\n",
    "clf = clf.fit(X_train,y_train)"
   ]
  },
  {
   "cell_type": "code",
   "execution_count": 86,
   "metadata": {},
   "outputs": [],
   "source": [
    "#predicting on test data.\n",
    "predictions2 =  clf.predict(X_test)"
   ]
  },
  {
   "cell_type": "code",
   "execution_count": 87,
   "metadata": {
    "scrolled": true
   },
   "outputs": [
    {
     "name": "stdout",
     "output_type": "stream",
     "text": [
      "confusion matrix\n",
      "[[29 18  9]\n",
      " [18 53 38]\n",
      " [12 40 74]]\n",
      "Accuracy_score\n",
      "0.5360824742268041\n"
     ]
    }
   ],
   "source": [
    "print(\"confusion matrix\")\n",
    "print(confusion_matrix(y_test,predictions2))\n",
    "print(\"Accuracy_score\")\n",
    "print(accuracy_score(y_test, predictions2))"
   ]
  },
  {
   "cell_type": "code",
   "execution_count": 88,
   "metadata": {},
   "outputs": [
    {
     "name": "stdout",
     "output_type": "stream",
     "text": [
      "classification_report\n",
      "             precision    recall  f1-score   support\n",
      "\n",
      "          0       0.49      0.52      0.50        56\n",
      "          1       0.48      0.49      0.48       109\n",
      "          2       0.61      0.59      0.60       126\n",
      "\n",
      "avg / total       0.54      0.54      0.54       291\n",
      "\n"
     ]
    }
   ],
   "source": [
    "print(\"classification_report\")\n",
    "print(classification_report(y_test,predictions2))"
   ]
  },
  {
   "cell_type": "code",
   "execution_count": 89,
   "metadata": {},
   "outputs": [
    {
     "data": {
      "text/plain": [
       "0.272930855789162"
      ]
     },
     "execution_count": 89,
     "metadata": {},
     "output_type": "execute_result"
    }
   ],
   "source": [
    "#kappa score.\n",
    "cohen_kappa_score(y_test, predictions2)"
   ]
  },
  {
   "cell_type": "markdown",
   "metadata": {},
   "source": [
    "##Random Forest"
   ]
  },
  {
   "cell_type": "code",
   "execution_count": 90,
   "metadata": {},
   "outputs": [
    {
     "data": {
      "text/plain": [
       "RandomForestClassifier(bootstrap=True, class_weight=None, criterion='gini',\n",
       "            max_depth=2, max_features='auto', max_leaf_nodes=None,\n",
       "            min_impurity_decrease=0.0, min_impurity_split=None,\n",
       "            min_samples_leaf=1, min_samples_split=2,\n",
       "            min_weight_fraction_leaf=0.0, n_estimators=10, n_jobs=1,\n",
       "            oob_score=False, random_state=0, verbose=0, warm_start=False)"
      ]
     },
     "execution_count": 90,
     "metadata": {},
     "output_type": "execute_result"
    }
   ],
   "source": [
    "#model building.\n",
    "Rndclf = RandomForestClassifier(max_depth=2, random_state=0) \n",
    "Rndclf.fit(X_train,y_train)"
   ]
  },
  {
   "cell_type": "code",
   "execution_count": 91,
   "metadata": {},
   "outputs": [],
   "source": [
    "#predicting on test data.\n",
    "predictions3 = Rndclf.predict(X_test)"
   ]
  },
  {
   "cell_type": "code",
   "execution_count": 92,
   "metadata": {},
   "outputs": [
    {
     "name": "stdout",
     "output_type": "stream",
     "text": [
      "confusion matrix\n",
      "[[  3  12  41]\n",
      " [  0  29  80]\n",
      " [  0  10 116]]\n",
      "Accuracy_score\n",
      "0.5085910652920962\n"
     ]
    }
   ],
   "source": [
    "print(\"confusion matrix\")\n",
    "print(confusion_matrix(y_test,predictions3))\n",
    "print(\"Accuracy_score\")\n",
    "print(accuracy_score(y_test, predictions3))"
   ]
  },
  {
   "cell_type": "code",
   "execution_count": 93,
   "metadata": {},
   "outputs": [
    {
     "name": "stdout",
     "output_type": "stream",
     "text": [
      "classification_report\n",
      "             precision    recall  f1-score   support\n",
      "\n",
      "          0       1.00      0.05      0.10        56\n",
      "          1       0.57      0.27      0.36       109\n",
      "          2       0.49      0.92      0.64       126\n",
      "\n",
      "avg / total       0.62      0.51      0.43       291\n",
      "\n"
     ]
    }
   ],
   "source": [
    "print(\"classification_report\")\n",
    "print(classification_report(y_test,predictions3))"
   ]
  },
  {
   "cell_type": "code",
   "execution_count": 94,
   "metadata": {},
   "outputs": [
    {
     "data": {
      "text/plain": [
       "0.15234661451967724"
      ]
     },
     "execution_count": 94,
     "metadata": {},
     "output_type": "execute_result"
    }
   ],
   "source": [
    "#kappa score.\n",
    "cohen_kappa_score(y_test, predictions3)"
   ]
  },
  {
   "cell_type": "markdown",
   "metadata": {},
   "source": [
    "##XGboost model"
   ]
  },
  {
   "cell_type": "code",
   "execution_count": 95,
   "metadata": {},
   "outputs": [
    {
     "data": {
      "text/plain": [
       "XGBClassifier(base_score=0.5, booster='gbtree', colsample_bylevel=1,\n",
       "       colsample_bytree=1, gamma=0, learning_rate=0.1, max_delta_step=0,\n",
       "       max_depth=3, min_child_weight=1, missing=None, n_estimators=100,\n",
       "       n_jobs=1, nthread=None, objective='multi:softprob', random_state=0,\n",
       "       reg_alpha=0, reg_lambda=1, scale_pos_weight=1, seed=None,\n",
       "       silent=True, subsample=1)"
      ]
     },
     "execution_count": 95,
     "metadata": {},
     "output_type": "execute_result"
    }
   ],
   "source": [
    "#model building.\n",
    "xgb = XGBClassifier()\n",
    "xgb.fit(X_train, y_train)"
   ]
  },
  {
   "cell_type": "code",
   "execution_count": 96,
   "metadata": {},
   "outputs": [
    {
     "name": "stderr",
     "output_type": "stream",
     "text": [
      "C:\\anaconda\\lib\\site-packages\\sklearn\\preprocessing\\label.py:151: DeprecationWarning:\n",
      "\n",
      "The truth value of an empty array is ambiguous. Returning False, but in future this will result in an error. Use `array.size > 0` to check that an array is not empty.\n",
      "\n"
     ]
    }
   ],
   "source": [
    "#predicting on test data.\n",
    "predictions4 = xgb.predict(X_test)"
   ]
  },
  {
   "cell_type": "code",
   "execution_count": 97,
   "metadata": {},
   "outputs": [
    {
     "name": "stdout",
     "output_type": "stream",
     "text": [
      "confusion matrix\n",
      "[[28 16 12]\n",
      " [ 4 66 39]\n",
      " [ 1 36 89]]\n",
      "Accuracy_score\n",
      "0.6288659793814433\n"
     ]
    }
   ],
   "source": [
    "print(\"confusion matrix\")\n",
    "print(confusion_matrix(y_test,predictions4))\n",
    "print(\"Accuracy_score\")\n",
    "print(accuracy_score(y_test, predictions4))"
   ]
  },
  {
   "cell_type": "code",
   "execution_count": 98,
   "metadata": {},
   "outputs": [
    {
     "name": "stdout",
     "output_type": "stream",
     "text": [
      "classification_report\n",
      "             precision    recall  f1-score   support\n",
      "\n",
      "          0       0.85      0.50      0.63        56\n",
      "          1       0.56      0.61      0.58       109\n",
      "          2       0.64      0.71      0.67       126\n",
      "\n",
      "avg / total       0.65      0.63      0.63       291\n",
      "\n"
     ]
    }
   ],
   "source": [
    "print(\"classification_report\")\n",
    "print(classification_report(y_test,predictions4))"
   ]
  },
  {
   "cell_type": "code",
   "execution_count": 99,
   "metadata": {},
   "outputs": [
    {
     "data": {
      "text/plain": [
       "0.39943819151172344"
      ]
     },
     "execution_count": 99,
     "metadata": {},
     "output_type": "execute_result"
    }
   ],
   "source": [
    "#kappa score.\n",
    "cohen_kappa_score(y_test, predictions4)"
   ]
  },
  {
   "cell_type": "markdown",
   "metadata": {},
   "source": [
    "# By Comparing the above built models, we find that XGboost is giving better predictions based on Accuracy,F1-score and kappa score.\n"
   ]
  }
 ],
 "metadata": {
  "kernelspec": {
   "display_name": "Python 3",
   "language": "python",
   "name": "python3"
  },
  "language_info": {
   "codemirror_mode": {
    "name": "ipython",
    "version": 3
   },
   "file_extension": ".py",
   "mimetype": "text/x-python",
   "name": "python",
   "nbconvert_exporter": "python",
   "pygments_lexer": "ipython3",
   "version": "3.6.4"
  }
 },
 "nbformat": 4,
 "nbformat_minor": 2
}
